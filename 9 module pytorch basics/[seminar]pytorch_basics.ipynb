{
 "nbformat": 4,
 "nbformat_minor": 0,
 "metadata": {
  "colab": {
   "name": "[seminar]pytorch_basics.ipynb",
   "provenance": [],
   "collapsed_sections": []
  },
  "kernelspec": {
   "name": "python3",
   "display_name": "Python 3"
  },
  "accelerator": "GPU"
 },
 "cells": [
  {
   "cell_type": "markdown",
   "metadata": {
    "id": "5RETQ6CxbdOz"
   },
   "source": [
    "<p style=\"align: center;\"><img align=center src=\"https://s8.hostingkartinok.com/uploads/images/2018/08/308b49fcfbc619d629fe4604bceb67ac.jpg\" width=550 height=450/></p>\n",
    "\n",
    "<h3 style=\"text-align: center;\"><b>\"Глубокое обучение\". Продвинутый поток</b></h3>\n",
    "\n",
    "<h2 style=\"text-align: center;\"><b>Семинар 6. Основы библиотеки PyTorch </b></h2>\n"
   ]
  },
  {
   "cell_type": "markdown",
   "metadata": {
    "id": "-Iv1eX2mYJ8v"
   },
   "source": [
    "<p style=\"align: center;\"><img src=\"https://upload.wikimedia.org/wikipedia/commons/9/96/Pytorch_logo.png\" width=400 height=100></p>"
   ]
  },
  {
   "cell_type": "markdown",
   "metadata": {
    "id": "JwiKExhuYJ8w"
   },
   "source": [
    "Этот ноутбук посвящён основам  библиотеки PyTorch."
   ]
  },
  {
   "cell_type": "markdown",
   "metadata": {
    "id": "70_JTnaRbdPD"
   },
   "source": [
    "<h3 style=\"text-align: center;\"><b>Введение</b></h3>"
   ]
  },
  {
   "cell_type": "markdown",
   "metadata": {
    "id": "tQoex-sZYJ8x"
   },
   "source": [
    "В настоящее время существует множество фреймворков глубокого обучения. Разница между ними заключается во внутренних принципах вычислений. Например, в **[Caffe](http://caffe.berkeleyvision.org/)** и **[Caffe2](https://caffe2.ai/)** вы пишете код, используя некоторые «готовые блоки» \"(как и $ LEGO ^ {TM} $ :). В **[TensorFlow](https://www.tensorflow.org/)** и **[Theano](http://deeplearning.net/software/theano/)** вы сначала объявляете граф вычислений, затем компилируйте его и используйте для вывода / обучения (`tf.session ()`). Кстати, теперь в TensorFlow (начиная с версии 1.10) есть функция [Eager Execution](https://www.tensorflow.org/guide/eager), которая может быть полезна для быстрого прототипирования и отладки. **[Keras](https://keras.io/)** - очень популярный и полезный фреймворк DL, который позволяет быстро реализовывать нейронный сети и имеет множество полезных функций.\n"
   ]
  },
  {
   "cell_type": "markdown",
   "metadata": {
    "id": "97MX7yrBYJ8y"
   },
   "source": [
    "<p style=\"align: center;\"><img src=\"https://habrastorage.org/web/e3e/c3e/b78/e3ec3eb78d714a7993a6b922911c0866.png\" width=500 height=500></p>  \n",
    "<p style=\"text-align: center;\"><i>Image credit: https://habr.com/post/334380/</i><p>"
   ]
  },
  {
   "cell_type": "markdown",
   "metadata": {
    "id": "h5yBQj7EbdPJ"
   },
   "source": [
    "Мы будем использовать **PyTorch**, поскольку он активно развивается и поддерживается AI-сообществом "
   ]
  },
  {
   "cell_type": "markdown",
   "metadata": {
    "id": "J74O-qdJYJ80"
   },
   "source": [
    "<h3 style=\"text-align: center;\"><b>Установка</b></h3>"
   ]
  },
  {
   "cell_type": "markdown",
   "metadata": {
    "id": "WpXxZ4-4YJ83"
   },
   "source": [
    "Подробную инструкцию по установке PyTorch вы можете найти на [официальном сайте PyTorch](https://pytorch.org/)."
   ]
  },
  {
   "cell_type": "markdown",
   "metadata": {
    "id": "uxdjjnqIYJ86"
   },
   "source": [
    "## Синтаксис Фреймворка"
   ]
  },
  {
   "cell_type": "code",
   "metadata": {
    "id": "RtyozNmmYJ89"
   },
   "source": [
    "import torch"
   ],
   "execution_count": 39,
   "outputs": []
  },
  {
   "cell_type": "markdown",
   "metadata": {
    "id": "zjfLQzEPYJ9B"
   },
   "source": [
    "Несколько фактов о PyTorch:\n",
    "- динамический граф вычислений\n",
    "- удобные модули `torch.nn` и `torchvision` для быстрого прототипирования нейронных сетей\n",
    "- даже быстрее, чем TensorFlow на некоторых задачах\n",
    "- позволяет легко использовать **GPU**"
   ]
  },
  {
   "cell_type": "markdown",
   "metadata": {
    "id": "44AAEPIpu8Mq"
   },
   "source": [
    "По своей сути PyTorch предоставляет две основные функции:\n",
    "\n",
    "- n-мерный тензор, похожий на **numpy**, но может работать на графических процессорах\n",
    "- Автоматическая дифференциация для построения и обучения нейронных сетей"
   ]
  },
  {
   "cell_type": "markdown",
   "metadata": {
    "id": "0AL-T8TMYJ9D"
   },
   "source": [
    "Если бы PyTorch был формулой, она была бы такой:\n",
    "\n",
    "$$PyTorch = NumPy + CUDA + Autograd$$"
   ]
  },
  {
   "cell_type": "markdown",
   "metadata": {
    "id": "X_O59VXWYJ9E"
   },
   "source": [
    "(CUDA - [wiki](https://en.wikipedia.org/wiki/CUDA))"
   ]
  },
  {
   "cell_type": "markdown",
   "metadata": {
    "id": "lWIeTFxSYJ9F"
   },
   "source": [
    "Давайте посмотрим, как мы можем использовать PyTorch для работы с векторами и тензорами.\n",
    "\n",
    "Напомним, что **тензор** - это многомерный вектор, например :\n",
    "\n",
    "`x = np.array ([1,2,3])` - вектор = тензор с 1 размерностью (точнее: `(3,)`)\n",
    "\n",
    "`y = np.array ([[1, 2, 3], [4, 5, 6]])` - матрица = тензор с двумя измерениями (`(2, 3)` в данном случае)\n",
    "\n",
    "`z = np.array ([[[1, 2, 3], [4, 5, 6], [7, 8, 9]]],\n",
    "               [[1, 2, 3], [4, 5, 6], [7, 8, 9]],\n",
    "               [[1, 2, 3], [4, 5, 6], [7, 8, 9]]]) `-\" куб \"(3, 3, 3) = тензор с тремя измерениями (` ( 3, 3, 3) `в этом случае)\n"
   ]
  },
  {
   "cell_type": "markdown",
   "metadata": {
    "id": "hS97vo7mYJ9G"
   },
   "source": [
    "Одним из реальных примеров трехмерного тензора является **изображение**, оно имеет 3 измерения: `высота`, `ширина` и `глубина канала` (глубина канала = 3 для цветных изображений, 1 для оттенков серого). Вы можете думать об этом как о параллелепипеде, состоящем из действительных чисел.\n"
   ]
  },
  {
   "cell_type": "markdown",
   "metadata": {
    "id": "byu7xZtLYJ9J"
   },
   "source": [
    "### Типы Тензоров"
   ]
  },
  {
   "cell_type": "markdown",
   "metadata": {
    "id": "tEeGGtRiYJ9H"
   },
   "source": [
    "В PyTorch мы будем использовать `torch.Tensor` (`FloatTensor`, `IntTensor`, `ByteTensor`) для всех вычислений.\n",
    "\n",
    "Все типы:"
   ]
  },
  {
   "cell_type": "code",
   "metadata": {
    "id": "zilSktmEGgAv",
    "colab": {
     "base_uri": "https://localhost:8080/"
    },
    "outputId": "07dd7d1e-e151-4ee0-eccd-618ebb747fe1"
   },
   "source": [
    "torch.HalfTensor      # 16 бит, floating point\n",
    "torch.FloatTensor     # 32 бита, floating point\n",
    "torch.DoubleTensor    # 64 бита, floating point\n",
    "\n",
    "torch.ShortTensor     # 16 бит, integer, signed\n",
    "torch.IntTensor       # 32 бита, integer, signed\n",
    "torch.LongTensor      # 64 бита, integer, signed\n",
    "\n",
    "torch.CharTensor      # 8 бит, integer, signed\n",
    "torch.ByteTensor      # 8 бит, integer, unsigned"
   ],
   "execution_count": 40,
   "outputs": [
    {
     "data": {
      "text/plain": "torch.ByteTensor"
     },
     "execution_count": 40,
     "metadata": {},
     "output_type": "execute_result"
    }
   ]
  },
  {
   "cell_type": "markdown",
   "metadata": {
    "id": "NWk2gidNYJ9P"
   },
   "source": [
    "Мы будем использовать только `torch.FloatTensor()` и `torch.IntTensor()`."
   ]
  },
  {
   "cell_type": "markdown",
   "metadata": {
    "id": "CllyEKvVYJ9Q"
   },
   "source": [
    "Начнем уже что-нибудь писать!"
   ]
  },
  {
   "cell_type": "markdown",
   "metadata": {
    "id": "R4HEetsxYJ9Q"
   },
   "source": [
    "### Создание тензора"
   ]
  },
  {
   "cell_type": "code",
   "metadata": {
    "id": "MVawE9lRYJ9R",
    "colab": {
     "base_uri": "https://localhost:8080/"
    },
    "outputId": "abbf6a24-fff3-426d-8dfe-1190e4d568d5"
   },
   "source": [
    "a = torch.FloatTensor([1, 2])\n",
    "a\n"
   ],
   "execution_count": 41,
   "outputs": [
    {
     "data": {
      "text/plain": "tensor([1., 2.])"
     },
     "execution_count": 41,
     "metadata": {},
     "output_type": "execute_result"
    }
   ]
  },
  {
   "cell_type": "code",
   "metadata": {
    "id": "ARjaPS_GYJ9W",
    "colab": {
     "base_uri": "https://localhost:8080/"
    },
    "outputId": "ebdd325d-7bad-4724-c82e-67783414abb0"
   },
   "source": [
    "a.shape"
   ],
   "execution_count": 42,
   "outputs": [
    {
     "data": {
      "text/plain": "torch.Size([2])"
     },
     "execution_count": 42,
     "metadata": {},
     "output_type": "execute_result"
    }
   ]
  },
  {
   "cell_type": "code",
   "metadata": {
    "id": "4gXf0akDYJ9Z",
    "colab": {
     "base_uri": "https://localhost:8080/"
    },
    "outputId": "ee382869-6c7c-49b2-e7e2-a0c07b1f0c50"
   },
   "source": [
    "b = torch.FloatTensor([[1,2,3], [4,5,6]])\n",
    "b"
   ],
   "execution_count": 43,
   "outputs": [
    {
     "data": {
      "text/plain": "tensor([[1., 2., 3.],\n        [4., 5., 6.]])"
     },
     "execution_count": 43,
     "metadata": {},
     "output_type": "execute_result"
    }
   ]
  },
  {
   "cell_type": "code",
   "metadata": {
    "id": "0HTkoIzpYJ9e",
    "colab": {
     "base_uri": "https://localhost:8080/"
    },
    "outputId": "5ac34d30-bf04-4839-8858-53074d509450"
   },
   "source": [
    "b.shape"
   ],
   "execution_count": 44,
   "outputs": [
    {
     "data": {
      "text/plain": "torch.Size([2, 3])"
     },
     "execution_count": 44,
     "metadata": {},
     "output_type": "execute_result"
    }
   ]
  },
  {
   "cell_type": "code",
   "metadata": {
    "id": "WYJ9L-yFYJ9j"
   },
   "source": [
    "x = torch.FloatTensor(2,3,4)"
   ],
   "execution_count": 45,
   "outputs": []
  },
  {
   "cell_type": "code",
   "metadata": {
    "id": "qWAEP27IYJ9m",
    "colab": {
     "base_uri": "https://localhost:8080/"
    },
    "outputId": "f20995ad-4a57-4b02-e362-2b3104271f37"
   },
   "source": [
    "x"
   ],
   "execution_count": 46,
   "outputs": [
    {
     "data": {
      "text/plain": "tensor([[[6.0041e+31, 4.2964e+24, 4.8418e+30, 1.6926e+22],\n         [5.7886e+22, 6.7120e+22, 1.1632e+33, 5.6003e-02],\n         [7.0374e+22, 6.9983e+28, 1.9859e+29, 4.3218e+27]],\n\n        [[4.7423e+30, 2.2856e+20, 3.2607e-12, 7.4086e+28],\n         [7.1463e+22, 4.6241e+30, 1.0552e+24, 5.5757e-02],\n         [1.8728e+31, 1.4850e-41, 2.1019e-44, 0.0000e+00]]])"
     },
     "execution_count": 46,
     "metadata": {},
     "output_type": "execute_result"
    }
   ]
  },
  {
   "cell_type": "code",
   "metadata": {
    "id": "o5CsOJ_xYJ9s",
    "scrolled": true,
    "colab": {
     "base_uri": "https://localhost:8080/"
    },
    "outputId": "ca4147d0-1cd0-4ada-cef3-76770e887dc0"
   },
   "source": [
    "x = torch.FloatTensor(100)\n",
    "x"
   ],
   "execution_count": 47,
   "outputs": [
    {
     "data": {
      "text/plain": "tensor([0., 0., 0., 0., 0., 0., 0., 0., 0., 0., 0., 0., 0., 0., 0., 0., 0., 0., 0., 0., 0., 0., 0., 0.,\n        0., 0., 0., 0., 0., 0., 0., 0., 0., 0., 0., 0., 0., 0., 0., 0., 0., 0., 0., 0., 0., 0., 0., 0.,\n        0., 0., 0., 0., 0., 0., 0., 0., 0., 0., 0., 0., 0., 0., 0., 0., 0., 0., 0., 0., 0., 0., 0., 0.,\n        0., 0., 0., 0., 0., 0., 0., 0., 0., 0., 0., 0., 0., 0., 0., 0., 0., 0., 0., 0., 0., 0., 0., 0.,\n        0., 0., 0., 0.])"
     },
     "execution_count": 47,
     "metadata": {},
     "output_type": "execute_result"
    }
   ]
  },
  {
   "cell_type": "code",
   "metadata": {
    "id": "uIVhvmzZYJ91",
    "colab": {
     "base_uri": "https://localhost:8080/"
    },
    "outputId": "68747815-c3b2-4328-ca38-ce32b7321f0b"
   },
   "source": [
    "x = torch.IntTensor(45, 57, 14, 2)\n",
    "x.shape"
   ],
   "execution_count": 48,
   "outputs": [
    {
     "data": {
      "text/plain": "torch.Size([45, 57, 14, 2])"
     },
     "execution_count": 48,
     "metadata": {},
     "output_type": "execute_result"
    }
   ]
  },
  {
   "cell_type": "markdown",
   "metadata": {
    "id": "cUzl8DFRYJ95"
   },
   "source": [
    "**Примечание:** если вы создаете `torch.Tensor` с помощью следующего конструктора, он будет заполнен мусором из \"случайных номеров\":"
   ]
  },
  {
   "cell_type": "code",
   "metadata": {
    "id": "QX0QcIOzYJ96",
    "colab": {
     "base_uri": "https://localhost:8080/"
    },
    "outputId": "396c0956-a2f3-4d76-a697-5837aaa7385b"
   },
   "source": [
    "x = torch.IntTensor(3, 2, 4)\n",
    "x"
   ],
   "execution_count": 49,
   "outputs": [
    {
     "data": {
      "text/plain": "tensor([[[1950184565, 1751347823, 1920234286, 1684366441],\n         [1698963500, 1701013878, 1986356256, 1030054761]],\n\n        [[1701736270, 1868701740, 1881173103, 1834970729],\n         [1919905125, 1631993209,  744846188, 1869570592]],\n\n        [[1701978220, 1919513969, 1734308709, 1029988722],\n         [1936482630,      10597,         15,          0]]], dtype=torch.int32)"
     },
     "execution_count": 49,
     "metadata": {},
     "output_type": "execute_result"
    }
   ]
  },
  {
   "cell_type": "markdown",
   "metadata": {
    "id": "utra2t4SbdQR"
   },
   "source": [
    "### Инициализации тензоров"
   ]
  },
  {
   "cell_type": "code",
   "metadata": {
    "id": "XV3w9lVwYJ-A"
   },
   "source": [
    "x1 = torch.FloatTensor(3, 2, 4)\n",
    "x1.zero_()\n",
    "x2 = torch.zeros(3, 2, 4)\n",
    "x3 = torch.zeros_like(x1)\n",
    "\n",
    "assert torch.allclose(x1, x2) and torch.allclose(x1, x3)"
   ],
   "execution_count": 50,
   "outputs": []
  },
  {
   "cell_type": "markdown",
   "metadata": {
    "id": "G3el1HwZd9wJ"
   },
   "source": [
    "Инициализация случайного распределения"
   ]
  },
  {
   "cell_type": "code",
   "metadata": {
    "id": "-ahnCFMXe_9I",
    "colab": {
     "base_uri": "https://localhost:8080/"
    },
    "outputId": "e2882741-a8c3-451e-ed56-b8b1a64c14dc"
   },
   "source": [
    "x = torch.randn((2,3))                # Normal(0, 1) с размером (2, 3)\n",
    "x"
   ],
   "execution_count": 51,
   "outputs": [
    {
     "data": {
      "text/plain": "tensor([[ 0.4368,  1.6246, -0.6945],\n        [-0.5876, -0.1533, -1.2758]])"
     },
     "execution_count": 51,
     "metadata": {},
     "output_type": "execute_result"
    }
   ]
  },
  {
   "cell_type": "code",
   "metadata": {
    "id": "FhIy_yuRd9Kf",
    "colab": {
     "base_uri": "https://localhost:8080/"
    },
    "outputId": "2f6e8b9f-1495-4b61-89f4-cd490c69aed3"
   },
   "source": [
    "x.random_(0, 10)                      # Дискретное равномерно U[0, 10]\n",
    "x.uniform_(0, 1)                      # Равномерно U[0, 1]\n",
    "x.normal_(mean=0, std=1)              # Нормальное со средним 0 и дисперсией 1\n",
    "x.bernoulli_(p=0.5)                   # bernoulli with parameter p"
   ],
   "execution_count": 52,
   "outputs": [
    {
     "data": {
      "text/plain": "tensor([[0., 1., 1.],\n        [1., 1., 0.]])"
     },
     "execution_count": 52,
     "metadata": {},
     "output_type": "execute_result"
    }
   ]
  },
  {
   "cell_type": "markdown",
   "metadata": {
    "id": "bzq1klQuzXA9"
   },
   "source": [
    "## Функции в Torch \n",
    "\n",
    "У всех функций Numpy есть своя пара в Torch! Осталось теперь вспомнить numpy 🙂\n",
    "\n",
    "https://github.com/torch/torch7/wiki/Torch-for-Numpy-users"
   ]
  },
  {
   "cell_type": "markdown",
   "metadata": {
    "id": "SAAmLRwzYJ-E"
   },
   "source": [
    "### Изменение формы\n",
    "`np.reshape()` == `torch.view()`:"
   ]
  },
  {
   "cell_type": "code",
   "metadata": {
    "colab": {
     "base_uri": "https://localhost:8080/"
    },
    "id": "LLOoLEMDl8Cl",
    "outputId": "316ed447-b240-4fee-a3cf-cd0b86dd22a1"
   },
   "source": [
    "b"
   ],
   "execution_count": 53,
   "outputs": [
    {
     "data": {
      "text/plain": "tensor([[1., 2., 3.],\n        [4., 5., 6.]])"
     },
     "execution_count": 53,
     "metadata": {},
     "output_type": "execute_result"
    }
   ]
  },
  {
   "cell_type": "code",
   "metadata": {
    "colab": {
     "base_uri": "https://localhost:8080/"
    },
    "id": "vLu6QvQihvGA",
    "outputId": "b65aedab-36a9-4a91-86fc-32435c7b1a4d"
   },
   "source": [
    "b.view(3, 2).shape"
   ],
   "execution_count": 54,
   "outputs": [
    {
     "data": {
      "text/plain": "torch.Size([3, 2])"
     },
     "execution_count": 54,
     "metadata": {},
     "output_type": "execute_result"
    }
   ]
  },
  {
   "cell_type": "code",
   "metadata": {
    "colab": {
     "base_uri": "https://localhost:8080/"
    },
    "id": "BAET_xQhl_2f",
    "outputId": "ddc7d4a9-eb01-4c47-b7f6-83ac3830651c"
   },
   "source": [
    "b"
   ],
   "execution_count": 55,
   "outputs": [
    {
     "data": {
      "text/plain": "tensor([[1., 2., 3.],\n        [4., 5., 6.]])"
     },
     "execution_count": 55,
     "metadata": {},
     "output_type": "execute_result"
    }
   ]
  },
  {
   "cell_type": "code",
   "metadata": {
    "id": "spMYG2xXYJ-L",
    "colab": {
     "base_uri": "https://localhost:8080/"
    },
    "outputId": "9465bbfa-8121-4471-bc6c-81557b80ca86"
   },
   "source": [
    "b, b.stride()"
   ],
   "execution_count": 56,
   "outputs": [
    {
     "data": {
      "text/plain": "(tensor([[1., 2., 3.],\n         [4., 5., 6.]]),\n (3, 1))"
     },
     "execution_count": 56,
     "metadata": {},
     "output_type": "execute_result"
    }
   ]
  },
  {
   "cell_type": "code",
   "metadata": {
    "id": "ePjL3X3GYJ-H",
    "colab": {
     "base_uri": "https://localhost:8080/"
    },
    "outputId": "a0e06364-61e9-475d-ca36-5b9c28b01387"
   },
   "source": [
    "b.view(3, 2), b.view(3, 2).stride()  "
   ],
   "execution_count": 57,
   "outputs": [
    {
     "data": {
      "text/plain": "(tensor([[1., 2.],\n         [3., 4.],\n         [5., 6.]]),\n (2, 1))"
     },
     "execution_count": 57,
     "metadata": {},
     "output_type": "execute_result"
    }
   ]
  },
  {
   "cell_type": "markdown",
   "metadata": {
    "id": "amVu0N1zYJ-O"
   },
   "source": [
    "**Примечание:** `torch.view ()` создает новый тензор, но старый остается неизменным"
   ]
  },
  {
   "cell_type": "code",
   "metadata": {
    "id": "hWqyugOSYJ-Q",
    "colab": {
     "base_uri": "https://localhost:8080/"
    },
    "outputId": "ed94a8d8-41a3-4a7b-b7bf-2c27fe62b569"
   },
   "source": [
    "b.view(-1, 2)"
   ],
   "execution_count": 58,
   "outputs": [
    {
     "data": {
      "text/plain": "tensor([[1., 2.],\n        [3., 4.],\n        [5., 6.]])"
     },
     "execution_count": 58,
     "metadata": {},
     "output_type": "execute_result"
    }
   ]
  },
  {
   "cell_type": "code",
   "metadata": {
    "id": "S9CvF56uYJ-U",
    "colab": {
     "base_uri": "https://localhost:8080/"
    },
    "outputId": "fe2f9279-d516-4c04-ef95-561f1cad5f4b"
   },
   "source": [
    "b"
   ],
   "execution_count": 59,
   "outputs": [
    {
     "data": {
      "text/plain": "tensor([[1., 2., 3.],\n        [4., 5., 6.]])"
     },
     "execution_count": 59,
     "metadata": {},
     "output_type": "execute_result"
    }
   ]
  },
  {
   "cell_type": "code",
   "metadata": {
    "id": "MVrFVwTNYd3S",
    "colab": {
     "base_uri": "https://localhost:8080/"
    },
    "outputId": "65a2432b-c5f6-410c-9e22-113864cea1e7"
   },
   "source": [
    "b.T.stride(), b.is_contiguous(), b.T.is_contiguous()"
   ],
   "execution_count": 60,
   "outputs": [
    {
     "data": {
      "text/plain": "((1, 3), True, False)"
     },
     "execution_count": 60,
     "metadata": {},
     "output_type": "execute_result"
    }
   ]
  },
  {
   "cell_type": "code",
   "metadata": {
    "id": "0hZucnNac_x1"
   },
   "source": [],
   "execution_count": 60,
   "outputs": []
  },
  {
   "cell_type": "markdown",
   "metadata": {
    "id": "IVYx1j_HUl2d"
   },
   "source": [
    "<img src='https://lh3.googleusercontent.com/proxy/pbQ8C9YLVguU2LzlfE2-57lC3KK3yIRsQnpaTOK9S2UPpopvnZ3JhgeMcT6_kqYL56xq18ZFqddzPhszZg1W9YY--y-qDD2-bJrjVYivMdpQgRqiumwh6PpJYU3cL5Mua9RNeVp6xK0'>"
   ]
  },
  {
   "cell_type": "code",
   "metadata": {
    "id": "mjBCZ1fEJN5B",
    "colab": {
     "base_uri": "https://localhost:8080/"
    },
    "outputId": "ca03c774-804b-4efd-f395-05e10f61d1e4"
   },
   "source": [
    "b.reshape(-1) # возвращает view или contigues тензор"
   ],
   "execution_count": 61,
   "outputs": [
    {
     "data": {
      "text/plain": "tensor([1., 2., 3., 4., 5., 6.])"
     },
     "execution_count": 61,
     "metadata": {},
     "output_type": "execute_result"
    }
   ]
  },
  {
   "cell_type": "code",
   "metadata": {
    "id": "wet5p_4uJRm6",
    "colab": {
     "base_uri": "https://localhost:8080/"
    },
    "outputId": "3ff29e31-aa4f-4f3d-bcfd-6ab7f1f0823d"
   },
   "source": [
    "b"
   ],
   "execution_count": 62,
   "outputs": [
    {
     "data": {
      "text/plain": "tensor([[1., 2., 3.],\n        [4., 5., 6.]])"
     },
     "execution_count": 62,
     "metadata": {},
     "output_type": "execute_result"
    }
   ]
  },
  {
   "cell_type": "markdown",
   "metadata": {
    "id": "t401j1E2YJ-Z"
   },
   "source": [
    "### Изменение типа тензора"
   ]
  },
  {
   "cell_type": "code",
   "metadata": {
    "id": "f_iDUEH4YJ-Z"
   },
   "source": [
    "a = torch.FloatTensor([1.5, 3.2, -7])"
   ],
   "execution_count": 63,
   "outputs": []
  },
  {
   "cell_type": "code",
   "metadata": {
    "id": "EzJOrXitYJ-e",
    "colab": {
     "base_uri": "https://localhost:8080/"
    },
    "outputId": "dd112a82-f363-4831-bf1f-eb612b320804"
   },
   "source": [
    "a.type_as(torch.IntTensor())"
   ],
   "execution_count": 64,
   "outputs": [
    {
     "data": {
      "text/plain": "tensor([ 1,  3, -7], dtype=torch.int32)"
     },
     "execution_count": 64,
     "metadata": {},
     "output_type": "execute_result"
    }
   ]
  },
  {
   "cell_type": "code",
   "metadata": {
    "id": "5LrO73QgJuGb",
    "colab": {
     "base_uri": "https://localhost:8080/"
    },
    "outputId": "6b3efcd1-9a4f-4cda-ba6f-99eaaac9e1d4"
   },
   "source": [
    "a.to(torch.int32)"
   ],
   "execution_count": 65,
   "outputs": [
    {
     "data": {
      "text/plain": "tensor([ 1,  3, -7], dtype=torch.int32)"
     },
     "execution_count": 65,
     "metadata": {},
     "output_type": "execute_result"
    }
   ]
  },
  {
   "cell_type": "code",
   "metadata": {
    "id": "hAe3OWWUYJ-i",
    "colab": {
     "base_uri": "https://localhost:8080/"
    },
    "outputId": "86aa0aae-8043-4eeb-a9b7-7c43c5a3aa17"
   },
   "source": [
    "a.type_as(torch.ByteTensor())"
   ],
   "execution_count": 66,
   "outputs": [
    {
     "data": {
      "text/plain": "tensor([  1,   3, 249], dtype=torch.uint8)"
     },
     "execution_count": 66,
     "metadata": {},
     "output_type": "execute_result"
    }
   ]
  },
  {
   "cell_type": "code",
   "metadata": {
    "id": "6rOGMU_xJ450",
    "colab": {
     "base_uri": "https://localhost:8080/"
    },
    "outputId": "1f24d1ed-4caa-41d4-d35b-81f865fd7f64"
   },
   "source": [
    "a.to(torch.uint8)"
   ],
   "execution_count": 67,
   "outputs": [
    {
     "data": {
      "text/plain": "tensor([  1,   3, 249], dtype=torch.uint8)"
     },
     "execution_count": 67,
     "metadata": {},
     "output_type": "execute_result"
    }
   ]
  },
  {
   "cell_type": "markdown",
   "metadata": {
    "id": "4rkatrUeYJ-n"
   },
   "source": [
    "**Note:** `.type_as()` creates a new tensor, the old one remains unchanged"
   ]
  },
  {
   "cell_type": "code",
   "metadata": {
    "id": "fCgDT14MYJ-o",
    "colab": {
     "base_uri": "https://localhost:8080/"
    },
    "outputId": "b0bb7f6e-b2a1-4e08-cdc7-308f64106e11"
   },
   "source": [
    "a"
   ],
   "execution_count": 68,
   "outputs": [
    {
     "data": {
      "text/plain": "tensor([ 1.5000,  3.2000, -7.0000])"
     },
     "execution_count": 68,
     "metadata": {},
     "output_type": "execute_result"
    }
   ]
  },
  {
   "cell_type": "markdown",
   "metadata": {
    "id": "hG1OwtFBYJ-r"
   },
   "source": [
    "* Indexing is just like in `NumPy`:"
   ]
  },
  {
   "cell_type": "code",
   "metadata": {
    "id": "prr0EGIYYJ-r",
    "colab": {
     "base_uri": "https://localhost:8080/"
    },
    "outputId": "f2fdb1bf-991a-4551-e332-66a6a2f38924"
   },
   "source": [
    "a = torch.FloatTensor([[100, 20, 35], [15, 163, 534], [52, 90, 66]])\n",
    "a"
   ],
   "execution_count": 69,
   "outputs": [
    {
     "data": {
      "text/plain": "tensor([[100.,  20.,  35.],\n        [ 15., 163., 534.],\n        [ 52.,  90.,  66.]])"
     },
     "execution_count": 69,
     "metadata": {},
     "output_type": "execute_result"
    }
   ]
  },
  {
   "cell_type": "code",
   "metadata": {
    "id": "IBq7JiccYJ-w",
    "colab": {
     "base_uri": "https://localhost:8080/"
    },
    "outputId": "9fc31169-f3a5-439a-cd3b-3fca1ec0ecbb"
   },
   "source": [
    "a[0, 0]"
   ],
   "execution_count": 70,
   "outputs": [
    {
     "data": {
      "text/plain": "tensor(100.)"
     },
     "execution_count": 70,
     "metadata": {},
     "output_type": "execute_result"
    }
   ]
  },
  {
   "cell_type": "code",
   "metadata": {
    "id": "UUZzx2F_YJ-2",
    "colab": {
     "base_uri": "https://localhost:8080/"
    },
    "outputId": "7031bbca-c5f6-4fae-a3e3-79294dc7ac50"
   },
   "source": [
    "a[0:2, 1]"
   ],
   "execution_count": 71,
   "outputs": [
    {
     "data": {
      "text/plain": "tensor([ 20., 163.])"
     },
     "execution_count": 71,
     "metadata": {},
     "output_type": "execute_result"
    }
   ]
  },
  {
   "cell_type": "markdown",
   "metadata": {
    "id": "KffQsYwWYJ_D"
   },
   "source": [
    "### Арифметические операции\n",
    "\n",
    "| операция | аналоги |\n",
    "|:-:|:-:|\n",
    "|`+`| `torch.add()` |\n",
    "|`-`| `torch.sub()` |\n",
    "|`*`| `torch.mul()` |\n",
    "|`/`| `torch.div()` |"
   ]
  },
  {
   "cell_type": "markdown",
   "metadata": {
    "id": "UMpR8T11YJ_D"
   },
   "source": [
    "#### Сложение"
   ]
  },
  {
   "cell_type": "code",
   "metadata": {
    "id": "1XHkSjEUYJ_D"
   },
   "source": [
    "a = torch.FloatTensor([[1, 2, 3], [10, 20, 30], [100, 200, 300]])\n",
    "b = torch.FloatTensor([[-1, -2, -3], [-10, -20, -30], [100, 200, 300]])"
   ],
   "execution_count": 72,
   "outputs": []
  },
  {
   "cell_type": "code",
   "metadata": {
    "id": "td25tuFKYJ_H",
    "colab": {
     "base_uri": "https://localhost:8080/"
    },
    "outputId": "e9a45c64-1b54-4606-c2ef-1199105d2d05"
   },
   "source": [
    "a + b"
   ],
   "execution_count": 73,
   "outputs": [
    {
     "data": {
      "text/plain": "tensor([[  0.,   0.,   0.],\n        [  0.,   0.,   0.],\n        [200., 400., 600.]])"
     },
     "execution_count": 73,
     "metadata": {},
     "output_type": "execute_result"
    }
   ]
  },
  {
   "cell_type": "code",
   "metadata": {
    "id": "wHka8PxFYJ_N",
    "colab": {
     "base_uri": "https://localhost:8080/"
    },
    "outputId": "1736d82c-bfdb-4b4a-f9f2-8cf5519394fc"
   },
   "source": [
    "a.add(b)"
   ],
   "execution_count": 74,
   "outputs": [
    {
     "data": {
      "text/plain": "tensor([[  0.,   0.,   0.],\n        [  0.,   0.,   0.],\n        [200., 400., 600.]])"
     },
     "execution_count": 74,
     "metadata": {},
     "output_type": "execute_result"
    }
   ]
  },
  {
   "cell_type": "code",
   "metadata": {
    "id": "FHQj4DbBYJ_Q",
    "colab": {
     "base_uri": "https://localhost:8080/"
    },
    "outputId": "3ec26615-d6cb-4e0f-a2f2-11ed4d229927"
   },
   "source": [
    "b = -a\n",
    "b"
   ],
   "execution_count": 75,
   "outputs": [
    {
     "data": {
      "text/plain": "tensor([[  -1.,   -2.,   -3.],\n        [ -10.,  -20.,  -30.],\n        [-100., -200., -300.]])"
     },
     "execution_count": 75,
     "metadata": {},
     "output_type": "execute_result"
    }
   ]
  },
  {
   "cell_type": "code",
   "metadata": {
    "id": "xLCDzO7iYJ_V",
    "colab": {
     "base_uri": "https://localhost:8080/"
    },
    "outputId": "64ce8d45-4da2-4963-8361-05906f1cf968"
   },
   "source": [
    "a + b"
   ],
   "execution_count": 76,
   "outputs": [
    {
     "data": {
      "text/plain": "tensor([[0., 0., 0.],\n        [0., 0., 0.],\n        [0., 0., 0.]])"
     },
     "execution_count": 76,
     "metadata": {},
     "output_type": "execute_result"
    }
   ]
  },
  {
   "cell_type": "markdown",
   "metadata": {
    "id": "z_3gVLY3YJ_Z"
   },
   "source": [
    "#### Вычитание"
   ]
  },
  {
   "cell_type": "code",
   "metadata": {
    "id": "PANHq3eFYJ_a",
    "colab": {
     "base_uri": "https://localhost:8080/"
    },
    "outputId": "84c62349-b107-45ed-8105-915e7ad2807b"
   },
   "source": [
    "a - b"
   ],
   "execution_count": 77,
   "outputs": [
    {
     "data": {
      "text/plain": "tensor([[  2.,   4.,   6.],\n        [ 20.,  40.,  60.],\n        [200., 400., 600.]])"
     },
     "execution_count": 77,
     "metadata": {},
     "output_type": "execute_result"
    }
   ]
  },
  {
   "cell_type": "code",
   "metadata": {
    "id": "AH7xhdkRYJ_i",
    "colab": {
     "base_uri": "https://localhost:8080/"
    },
    "outputId": "e86f6eda-5117-44a3-b67b-829006f4fff8"
   },
   "source": [
    "a.sub(b) # copy"
   ],
   "execution_count": 78,
   "outputs": [
    {
     "data": {
      "text/plain": "tensor([[  2.,   4.,   6.],\n        [ 20.,  40.,  60.],\n        [200., 400., 600.]])"
     },
     "execution_count": 78,
     "metadata": {},
     "output_type": "execute_result"
    }
   ]
  },
  {
   "cell_type": "code",
   "metadata": {
    "id": "v-sls6QjK98V",
    "colab": {
     "base_uri": "https://localhost:8080/"
    },
    "outputId": "d0098f45-5fd8-43d6-ad50-ad5b01bc7b7b"
   },
   "source": [
    "a.sub_(b) # inplace"
   ],
   "execution_count": 79,
   "outputs": [
    {
     "data": {
      "text/plain": "tensor([[  2.,   4.,   6.],\n        [ 20.,  40.,  60.],\n        [200., 400., 600.]])"
     },
     "execution_count": 79,
     "metadata": {},
     "output_type": "execute_result"
    }
   ]
  },
  {
   "cell_type": "markdown",
   "metadata": {
    "id": "KOX3dTuZYJ_l"
   },
   "source": [
    "#### Умножение (поэлементное)"
   ]
  },
  {
   "cell_type": "code",
   "metadata": {
    "id": "J380CvNGYJ_m",
    "colab": {
     "base_uri": "https://localhost:8080/"
    },
    "outputId": "1c194f31-d53f-4097-e252-a126c7a6d8ea"
   },
   "source": [
    "a * b"
   ],
   "execution_count": 80,
   "outputs": [
    {
     "data": {
      "text/plain": "tensor([[-2.0000e+00, -8.0000e+00, -1.8000e+01],\n        [-2.0000e+02, -8.0000e+02, -1.8000e+03],\n        [-2.0000e+04, -8.0000e+04, -1.8000e+05]])"
     },
     "execution_count": 80,
     "metadata": {},
     "output_type": "execute_result"
    }
   ]
  },
  {
   "cell_type": "code",
   "metadata": {
    "id": "cixW0jgdYJ_o",
    "colab": {
     "base_uri": "https://localhost:8080/"
    },
    "outputId": "5b6e4971-5032-4200-ca63-f7f25bc9dd3c"
   },
   "source": [
    "a.mul(b)"
   ],
   "execution_count": 81,
   "outputs": [
    {
     "data": {
      "text/plain": "tensor([[-2.0000e+00, -8.0000e+00, -1.8000e+01],\n        [-2.0000e+02, -8.0000e+02, -1.8000e+03],\n        [-2.0000e+04, -8.0000e+04, -1.8000e+05]])"
     },
     "execution_count": 81,
     "metadata": {},
     "output_type": "execute_result"
    }
   ]
  },
  {
   "cell_type": "markdown",
   "metadata": {
    "id": "V-GYTERKYJ_q"
   },
   "source": [
    "#### Деление (поэлементное):"
   ]
  },
  {
   "cell_type": "code",
   "metadata": {
    "id": "fUBQns2SYJ_r"
   },
   "source": [
    "a = torch.FloatTensor([[1, 2, 3], [10, 20, 30], [100, 200, 300]])\n",
    "b = torch.FloatTensor([[-1, -2, -3], [-10, -20, -30], [100, 200, 300]])"
   ],
   "execution_count": 82,
   "outputs": []
  },
  {
   "cell_type": "code",
   "metadata": {
    "id": "2hrKeMjAYJ_v",
    "colab": {
     "base_uri": "https://localhost:8080/"
    },
    "outputId": "5ef8fab2-da30-406b-b0a6-3aae04de9e1c"
   },
   "source": [
    "a / b"
   ],
   "execution_count": 83,
   "outputs": [
    {
     "data": {
      "text/plain": "tensor([[-1., -1., -1.],\n        [-1., -1., -1.],\n        [ 1.,  1.,  1.]])"
     },
     "execution_count": 83,
     "metadata": {},
     "output_type": "execute_result"
    }
   ]
  },
  {
   "cell_type": "code",
   "metadata": {
    "id": "cpg3YFVPYJ_2",
    "colab": {
     "base_uri": "https://localhost:8080/"
    },
    "outputId": "d7813f61-f134-41a5-eea2-77abd21f7ffb"
   },
   "source": [
    "a.div(b)"
   ],
   "execution_count": 84,
   "outputs": [
    {
     "data": {
      "text/plain": "tensor([[-1., -1., -1.],\n        [-1., -1., -1.],\n        [ 1.,  1.,  1.]])"
     },
     "execution_count": 84,
     "metadata": {},
     "output_type": "execute_result"
    }
   ]
  },
  {
   "cell_type": "markdown",
   "metadata": {
    "id": "VeLAbx1tYJ_7"
   },
   "source": [
    "**Примечание:** все эти операции создают новые тензоры, старые тензоры остаются неизменными."
   ]
  },
  {
   "cell_type": "code",
   "metadata": {
    "id": "57BFtnlgYJ_8",
    "colab": {
     "base_uri": "https://localhost:8080/"
    },
    "outputId": "3b41b3df-8c26-40ba-fd50-ea6d86080d2f"
   },
   "source": [
    "a"
   ],
   "execution_count": 85,
   "outputs": [
    {
     "data": {
      "text/plain": "tensor([[  1.,   2.,   3.],\n        [ 10.,  20.,  30.],\n        [100., 200., 300.]])"
     },
     "execution_count": 85,
     "metadata": {},
     "output_type": "execute_result"
    }
   ]
  },
  {
   "cell_type": "code",
   "metadata": {
    "id": "UziXyvtDYJ_-",
    "colab": {
     "base_uri": "https://localhost:8080/"
    },
    "outputId": "3a77920d-7fbc-4927-f221-5e8f7b1bc2f2"
   },
   "source": [
    "b"
   ],
   "execution_count": 86,
   "outputs": [
    {
     "data": {
      "text/plain": "tensor([[ -1.,  -2.,  -3.],\n        [-10., -20., -30.],\n        [100., 200., 300.]])"
     },
     "execution_count": 86,
     "metadata": {},
     "output_type": "execute_result"
    }
   ]
  },
  {
   "cell_type": "markdown",
   "metadata": {
    "id": "vLpwZPc3YKAC"
   },
   "source": [
    "### Операторы сравнения"
   ]
  },
  {
   "cell_type": "code",
   "metadata": {
    "id": "FfRzvw_UYKAC"
   },
   "source": [
    "a = torch.FloatTensor([[1, 2, 3], [10, 20, 30], [100, 200, 300]])\n",
    "b = torch.FloatTensor([[-1, -2, -3], [-10, -20, -30], [100, 200, 300]])"
   ],
   "execution_count": 87,
   "outputs": []
  },
  {
   "cell_type": "code",
   "metadata": {
    "id": "o1RUTP2BYKAD",
    "colab": {
     "base_uri": "https://localhost:8080/"
    },
    "outputId": "4a611a77-f313-48f6-e293-095eb0f76cdf"
   },
   "source": [
    "a == b"
   ],
   "execution_count": 88,
   "outputs": [
    {
     "data": {
      "text/plain": "tensor([[False, False, False],\n        [False, False, False],\n        [ True,  True,  True]])"
     },
     "execution_count": 88,
     "metadata": {},
     "output_type": "execute_result"
    }
   ]
  },
  {
   "cell_type": "code",
   "metadata": {
    "id": "JO3HaVIAYKAF",
    "colab": {
     "base_uri": "https://localhost:8080/"
    },
    "outputId": "49111463-ef42-4067-e354-3eb134338f3d"
   },
   "source": [
    "a != b"
   ],
   "execution_count": 89,
   "outputs": [
    {
     "data": {
      "text/plain": "tensor([[ True,  True,  True],\n        [ True,  True,  True],\n        [False, False, False]])"
     },
     "execution_count": 89,
     "metadata": {},
     "output_type": "execute_result"
    }
   ]
  },
  {
   "cell_type": "code",
   "metadata": {
    "id": "DExLBj4VYKAH",
    "colab": {
     "base_uri": "https://localhost:8080/"
    },
    "outputId": "5d502c89-47b9-4df2-b32f-8f152cfb2a7e"
   },
   "source": [
    "a < b"
   ],
   "execution_count": 90,
   "outputs": [
    {
     "data": {
      "text/plain": "tensor([[False, False, False],\n        [False, False, False],\n        [False, False, False]])"
     },
     "execution_count": 90,
     "metadata": {},
     "output_type": "execute_result"
    }
   ]
  },
  {
   "cell_type": "code",
   "metadata": {
    "id": "0_IH_FUNYKAJ",
    "colab": {
     "base_uri": "https://localhost:8080/"
    },
    "outputId": "92e7db00-81d1-4ad8-d642-ef68cc70bbe7"
   },
   "source": [
    "a > b"
   ],
   "execution_count": 91,
   "outputs": [
    {
     "data": {
      "text/plain": "tensor([[ True,  True,  True],\n        [ True,  True,  True],\n        [False, False, False]])"
     },
     "execution_count": 91,
     "metadata": {},
     "output_type": "execute_result"
    }
   ]
  },
  {
   "cell_type": "markdown",
   "metadata": {
    "id": "24nzBJR8YKAM"
   },
   "source": [
    "### Использование индексации по логической маске"
   ]
  },
  {
   "cell_type": "code",
   "metadata": {
    "id": "C-xVDslwYKAN",
    "colab": {
     "base_uri": "https://localhost:8080/"
    },
    "outputId": "6ef2584b-9233-4573-e391-ad92e199cc11"
   },
   "source": [
    "a[a > b]"
   ],
   "execution_count": 92,
   "outputs": [
    {
     "data": {
      "text/plain": "tensor([ 1.,  2.,  3., 10., 20., 30.])"
     },
     "execution_count": 92,
     "metadata": {},
     "output_type": "execute_result"
    }
   ]
  },
  {
   "cell_type": "code",
   "metadata": {
    "id": "XatDJF5YYKAQ",
    "colab": {
     "base_uri": "https://localhost:8080/"
    },
    "outputId": "0e4e7c4e-b9be-4363-9425-9092ffa1f873"
   },
   "source": [
    "b[a == b]"
   ],
   "execution_count": 93,
   "outputs": [
    {
     "data": {
      "text/plain": "tensor([100., 200., 300.])"
     },
     "execution_count": 93,
     "metadata": {},
     "output_type": "execute_result"
    }
   ]
  },
  {
   "cell_type": "markdown",
   "metadata": {
    "id": "54bQky1bYKAf"
   },
   "source": [
    "### Поэлементное применение **универсальных функций**"
   ]
  },
  {
   "cell_type": "code",
   "metadata": {
    "id": "lWnGSuUhYKAf"
   },
   "source": [
    "a = torch.FloatTensor([[1, 2, 3], [10, 20, 30], [100, 200, 300]])"
   ],
   "execution_count": 94,
   "outputs": []
  },
  {
   "cell_type": "code",
   "metadata": {
    "id": "J6ZyxZBNYKAl",
    "colab": {
     "base_uri": "https://localhost:8080/"
    },
    "outputId": "f907d445-3a9b-4705-da3d-ea977c3a4caa"
   },
   "source": [
    "a.sin()"
   ],
   "execution_count": 95,
   "outputs": [
    {
     "data": {
      "text/plain": "tensor([[ 0.8415,  0.9093,  0.1411],\n        [-0.5440,  0.9129, -0.9880],\n        [-0.5064, -0.8733, -0.9998]])"
     },
     "execution_count": 95,
     "metadata": {},
     "output_type": "execute_result"
    }
   ]
  },
  {
   "cell_type": "code",
   "metadata": {
    "id": "SScTSkJMYKAo",
    "colab": {
     "base_uri": "https://localhost:8080/"
    },
    "outputId": "1334afb7-570d-4a35-ec5b-164c4ca144f8"
   },
   "source": [
    "torch.sin(a)"
   ],
   "execution_count": 96,
   "outputs": [
    {
     "data": {
      "text/plain": "tensor([[ 0.8415,  0.9093,  0.1411],\n        [-0.5440,  0.9129, -0.9880],\n        [-0.5064, -0.8733, -0.9998]])"
     },
     "execution_count": 96,
     "metadata": {},
     "output_type": "execute_result"
    }
   ]
  },
  {
   "cell_type": "code",
   "metadata": {
    "id": "0bYVYVV7YKAr",
    "colab": {
     "base_uri": "https://localhost:8080/"
    },
    "outputId": "24b7e541-4040-44c9-a520-77bbe3485388"
   },
   "source": [
    "a.tan()"
   ],
   "execution_count": 97,
   "outputs": [
    {
     "data": {
      "text/plain": "tensor([[ 1.5574, -2.1850, -0.1425],\n        [ 0.6484,  2.2372, -6.4053],\n        [-0.5872, -1.7925, 45.2447]])"
     },
     "execution_count": 97,
     "metadata": {},
     "output_type": "execute_result"
    }
   ]
  },
  {
   "cell_type": "code",
   "metadata": {
    "id": "c-rYL8HQYKAt",
    "colab": {
     "base_uri": "https://localhost:8080/"
    },
    "outputId": "f44b9173-efbd-4cc1-c68a-80c4151683d8"
   },
   "source": [
    "a.exp()"
   ],
   "execution_count": 98,
   "outputs": [
    {
     "data": {
      "text/plain": "tensor([[2.7183e+00, 7.3891e+00, 2.0086e+01],\n        [2.2026e+04, 4.8517e+08, 1.0686e+13],\n        [       inf,        inf,        inf]])"
     },
     "execution_count": 98,
     "metadata": {},
     "output_type": "execute_result"
    }
   ]
  },
  {
   "cell_type": "code",
   "metadata": {
    "id": "EbiCDYUzYKAw",
    "colab": {
     "base_uri": "https://localhost:8080/"
    },
    "outputId": "b0a12eb8-24d3-4008-9a87-8c1bc2a37d2f"
   },
   "source": [
    "a.log()"
   ],
   "execution_count": 99,
   "outputs": [
    {
     "data": {
      "text/plain": "tensor([[0.0000, 0.6931, 1.0986],\n        [2.3026, 2.9957, 3.4012],\n        [4.6052, 5.2983, 5.7038]])"
     },
     "execution_count": 99,
     "metadata": {},
     "output_type": "execute_result"
    }
   ]
  },
  {
   "cell_type": "code",
   "metadata": {
    "id": "yh1sySpiYKAy",
    "colab": {
     "base_uri": "https://localhost:8080/"
    },
    "outputId": "71f5fc95-c70b-4037-cfb6-3ecc3d262d03"
   },
   "source": [
    "b = -a\n",
    "b"
   ],
   "execution_count": 100,
   "outputs": [
    {
     "data": {
      "text/plain": "tensor([[  -1.,   -2.,   -3.],\n        [ -10.,  -20.,  -30.],\n        [-100., -200., -300.]])"
     },
     "execution_count": 100,
     "metadata": {},
     "output_type": "execute_result"
    }
   ]
  },
  {
   "cell_type": "code",
   "metadata": {
    "id": "PNU0UxqIYKA2",
    "colab": {
     "base_uri": "https://localhost:8080/"
    },
    "outputId": "17008632-fa44-448a-cc87-fe7b1373d05a"
   },
   "source": [
    "b.abs()"
   ],
   "execution_count": 101,
   "outputs": [
    {
     "data": {
      "text/plain": "tensor([[  1.,   2.,   3.],\n        [ 10.,  20.,  30.],\n        [100., 200., 300.]])"
     },
     "execution_count": 101,
     "metadata": {},
     "output_type": "execute_result"
    }
   ]
  },
  {
   "cell_type": "markdown",
   "metadata": {
    "id": "eqERQjISYKA9"
   },
   "source": [
    "### Агрегация и работа с осями\n",
    "#### sum, mean, max, min:"
   ]
  },
  {
   "cell_type": "code",
   "metadata": {
    "id": "HLmJGdl9YKA-",
    "colab": {
     "base_uri": "https://localhost:8080/"
    },
    "outputId": "a6204bea-32bb-447d-cf8c-7574ebb164ec"
   },
   "source": [
    "a.sum(dim=1)"
   ],
   "execution_count": 102,
   "outputs": [
    {
     "data": {
      "text/plain": "tensor([  6.,  60., 600.])"
     },
     "execution_count": 102,
     "metadata": {},
     "output_type": "execute_result"
    }
   ]
  },
  {
   "cell_type": "code",
   "metadata": {
    "id": "ervIuNGnYKBD",
    "colab": {
     "base_uri": "https://localhost:8080/"
    },
    "outputId": "ff444bc6-c56e-43eb-9ea1-d4551194e16a"
   },
   "source": [
    "a.mean()"
   ],
   "execution_count": 103,
   "outputs": [
    {
     "data": {
      "text/plain": "tensor(74.)"
     },
     "execution_count": 103,
     "metadata": {},
     "output_type": "execute_result"
    }
   ]
  },
  {
   "cell_type": "markdown",
   "metadata": {
    "id": "1qxkdUQ2YKBF"
   },
   "source": [
    "#### Применение функции вдоль оси"
   ]
  },
  {
   "cell_type": "code",
   "metadata": {
    "id": "OzU2H7jBbdS-",
    "colab": {
     "base_uri": "https://localhost:8080/"
    },
    "outputId": "a701fb53-3b9b-435c-cb17-620c69315d7c"
   },
   "source": [
    "a"
   ],
   "execution_count": 104,
   "outputs": [
    {
     "data": {
      "text/plain": "tensor([[  1.,   2.,   3.],\n        [ 10.,  20.,  30.],\n        [100., 200., 300.]])"
     },
     "execution_count": 104,
     "metadata": {},
     "output_type": "execute_result"
    }
   ]
  },
  {
   "cell_type": "code",
   "metadata": {
    "id": "cc6RjJYeYKBG",
    "colab": {
     "base_uri": "https://localhost:8080/"
    },
    "outputId": "78e942a6-5820-4fde-88d2-d5e1ce0665c9"
   },
   "source": [
    "a.sum(dim=0)"
   ],
   "execution_count": 105,
   "outputs": [
    {
     "data": {
      "text/plain": "tensor([111., 222., 333.])"
     },
     "execution_count": 105,
     "metadata": {},
     "output_type": "execute_result"
    }
   ]
  },
  {
   "cell_type": "code",
   "metadata": {
    "id": "Dgi5BmhOYKBJ",
    "colab": {
     "base_uri": "https://localhost:8080/"
    },
    "outputId": "a6e73d38-78bc-42d2-da86-bccd3f9bb772"
   },
   "source": [
    "a.sum(dim=1)"
   ],
   "execution_count": 106,
   "outputs": [
    {
     "data": {
      "text/plain": "tensor([  6.,  60., 600.])"
     },
     "execution_count": 106,
     "metadata": {},
     "output_type": "execute_result"
    }
   ]
  },
  {
   "cell_type": "code",
   "metadata": {
    "id": "-tIkcTENYKBK",
    "colab": {
     "base_uri": "https://localhost:8080/"
    },
    "outputId": "bd0f3557-ca04-4c9d-94f5-1c01947f4432"
   },
   "source": [
    "a.max()"
   ],
   "execution_count": 107,
   "outputs": [
    {
     "data": {
      "text/plain": "tensor(300.)"
     },
     "execution_count": 107,
     "metadata": {},
     "output_type": "execute_result"
    }
   ]
  },
  {
   "cell_type": "code",
   "metadata": {
    "id": "V4U_LyyPYKBL",
    "colab": {
     "base_uri": "https://localhost:8080/"
    },
    "outputId": "b3e7f4e1-2ade-4d73-f3f5-16a9e1af266b"
   },
   "source": [
    "a.max(0)"
   ],
   "execution_count": 108,
   "outputs": [
    {
     "data": {
      "text/plain": "torch.return_types.max(\nvalues=tensor([100., 200., 300.]),\nindices=tensor([2, 2, 2]))"
     },
     "execution_count": 108,
     "metadata": {},
     "output_type": "execute_result"
    }
   ]
  },
  {
   "cell_type": "markdown",
   "metadata": {
    "id": "Ys-9hnr4YKBS"
   },
   "source": [
    "**Примечание:** второй тензор, возвращаемый `.max()`, содержит индексы элементов max вдоль этой оси. Например. в этом случае `a.max ()` вернула `(100, 200, 300)`, которые являются минимальными элементами по оси 0 (вдоль столбцов), а их индексы по оси 0 равны `(2, 2, 2)`.\n"
   ]
  },
  {
   "cell_type": "markdown",
   "metadata": {
    "id": "utha2fm_zdmx"
   },
   "source": [
    "#### Фиктивные оси\n",
    "\n",
    "Иногда очень сложно бывает разобраться, как правильно выбрать оси для применения операций с многомерными массивами. Поэтому сейчас мы решим на эту тему пару задач.\n",
    "Сначала посмотрим, как создавать у массивов новые фиктивные оси, это нам пригодится."
   ]
  },
  {
   "cell_type": "code",
   "metadata": {
    "id": "0E6stC7-0J1r",
    "colab": {
     "base_uri": "https://localhost:8080/"
    },
    "outputId": "cf60029f-10ab-48b3-9471-8bf54187c7e0"
   },
   "source": [
    "a = torch.FloatTensor([[1, 2, 3], [10, 20, 30], [100, 200, 300]])\n",
    "\n",
    "a[:, None, :].shape"
   ],
   "execution_count": 109,
   "outputs": [
    {
     "data": {
      "text/plain": "torch.Size([3, 1, 3])"
     },
     "execution_count": 109,
     "metadata": {},
     "output_type": "execute_result"
    }
   ]
  },
  {
   "cell_type": "code",
   "metadata": {
    "id": "FgfUrKpk0fLg",
    "colab": {
     "base_uri": "https://localhost:8080/"
    },
    "outputId": "07a3b509-2385-4e86-b91e-1451349258f2"
   },
   "source": [
    "a[:, :, None]"
   ],
   "execution_count": 110,
   "outputs": [
    {
     "data": {
      "text/plain": "tensor([[[  1.],\n         [  2.],\n         [  3.]],\n\n        [[ 10.],\n         [ 20.],\n         [ 30.]],\n\n        [[100.],\n         [200.],\n         [300.]]])"
     },
     "execution_count": 110,
     "metadata": {},
     "output_type": "execute_result"
    }
   ]
  },
  {
   "cell_type": "markdown",
   "metadata": {
    "id": "vwF56ibrw1Hz"
   },
   "source": [
    "#### Безобидная задача на кумулятивные суммы\n",
    "Дана матрица $M \\times N$. Напишите функцию, которая возвращает вектор средних значений по вертикали. \n",
    "\n"
   ]
  },
  {
   "cell_type": "code",
   "metadata": {
    "id": "29X7MxuqxwIU",
    "colab": {
     "base_uri": "https://localhost:8080/"
    },
    "outputId": "d0e18dc4-f286-427e-f525-15df0998cbfd"
   },
   "source": [
    "def vertical_means(A):\n",
    "    \"\"\"\n",
    "    param A: torch.tensor[m,n]\n",
    "    \"\"\"\n",
    "\n",
    "    result = A.mean(dim=0)\n",
    "\n",
    "    return result # <YOUR CODE>\n",
    "\n",
    "A = torch.FloatTensor([[1, 4], \n",
    "                       [2, 7]] )\n",
    "\n",
    "vertical_means(A)"
   ],
   "execution_count": 111,
   "outputs": [
    {
     "data": {
      "text/plain": "tensor([1.5000, 5.5000])"
     },
     "execution_count": 111,
     "metadata": {},
     "output_type": "execute_result"
    }
   ]
  },
  {
   "cell_type": "markdown",
   "metadata": {
    "id": "T6YOmemux0SI"
   },
   "source": [
    "**Проблемы:**\n",
    "\n",
    "* Что такое вертикальная ось? \n",
    "* По какой оси необходимо суммировать?\n",
    "* Как не ошибиться?\n",
    "\n",
    "**Ответ:** Операции всегда производятся по той оси, которая **исчезнет** после применения операции."
   ]
  },
  {
   "cell_type": "markdown",
   "metadata": {
    "id": "5YEpNZ3YyKzi"
   },
   "source": [
    "#### Задача на нормализацию изображения\n",
    "Реализуйте функцию ``normalize_pictures(A)``, которая принимает на вход четырёхмерный тензор --- батч из ``batch_size`` изображений, каждое из которых является трехмерным тензором формы (num_channels, width, height). Нужно стандартизировать изображение по каждому каналу, то есть сделать так, чтобы среднее значение яркости каждого канала (по всем изображениям и всем пикселям) было равно 0, а стандартное отклонение --- 1."
   ]
  },
  {
   "cell_type": "code",
   "metadata": {
    "id": "jNGjlcaVy3WT"
   },
   "source": [
    "def normalize_pictures(A):\n",
    "    \"\"\"\n",
    "    param A: torch.Tensor[batch_size, num_channels, width, height]\n",
    "    \"\"\"\n",
    "\n",
    "    m = A.mean(dim=(2,3))\n",
    "    sigma = A.std(dim =(2, 3))\n",
    "\n",
    "    result = (A - m[:, :, None, None])/sigma[:, :, None, None]\n",
    "\n",
    "\n",
    "    return result"
   ],
   "execution_count": 112,
   "outputs": []
  },
  {
   "cell_type": "code",
   "metadata": {
    "id": "ZFUY4oookJ9i",
    "colab": {
     "base_uri": "https://localhost:8080/"
    },
    "outputId": "f2b57073-9eca-438b-e773-a7abc258de12"
   },
   "source": [
    "batch = torch.randint(0, 156, (64, 3, 300, 300), dtype=torch.float32)\n",
    "batch.mean(dim=(2,3)).shape"
   ],
   "execution_count": 113,
   "outputs": [
    {
     "data": {
      "text/plain": "torch.Size([64, 3])"
     },
     "execution_count": 113,
     "metadata": {},
     "output_type": "execute_result"
    }
   ]
  },
  {
   "cell_type": "code",
   "metadata": {
    "id": "OttmzUHWzOiA"
   },
   "source": [
    "batch = torch.randint(0, 256, (64, 3, 300, 300), dtype=torch.float32)\n",
    "\n",
    "B = normalize_pictures(batch)\n",
    "# print(B.mean(dim=(2,3)).shape)\n",
    "# print(B.std(dim=(2,3)))"
   ],
   "execution_count": 114,
   "outputs": []
  },
  {
   "cell_type": "code",
   "metadata": {
    "id": "qdubz4LkkCuW"
   },
   "source": [],
   "execution_count": 114,
   "outputs": []
  },
  {
   "cell_type": "markdown",
   "metadata": {
    "id": "kepFeTZ0YKBV"
   },
   "source": [
    "## Матричные операции"
   ]
  },
  {
   "cell_type": "markdown",
   "metadata": {
    "id": "7RYm3mdrYKBX"
   },
   "source": [
    "#### Транспонирование тензора"
   ]
  },
  {
   "cell_type": "code",
   "metadata": {
    "id": "T8-1TSkeYKBY",
    "colab": {
     "base_uri": "https://localhost:8080/"
    },
    "outputId": "aca565b2-ea0c-4909-964a-05cc5a3e6f68"
   },
   "source": [
    "a = torch.FloatTensor([[1, 2, 3], [10, 20, 30], [100, 200, 300]])\n",
    "a"
   ],
   "execution_count": 115,
   "outputs": [
    {
     "data": {
      "text/plain": "tensor([[  1.,   2.,   3.],\n        [ 10.,  20.,  30.],\n        [100., 200., 300.]])"
     },
     "execution_count": 115,
     "metadata": {},
     "output_type": "execute_result"
    }
   ]
  },
  {
   "cell_type": "code",
   "metadata": {
    "id": "HSAZwai7YKBa",
    "colab": {
     "base_uri": "https://localhost:8080/"
    },
    "outputId": "6506227d-85fc-4b22-e1a9-8b212c742d2b"
   },
   "source": [
    "a.t()"
   ],
   "execution_count": 116,
   "outputs": [
    {
     "data": {
      "text/plain": "tensor([[  1.,  10., 100.],\n        [  2.,  20., 200.],\n        [  3.,  30., 300.]])"
     },
     "execution_count": 116,
     "metadata": {},
     "output_type": "execute_result"
    }
   ]
  },
  {
   "cell_type": "markdown",
   "metadata": {
    "id": "QqsPkleRYKBd"
   },
   "source": [
    "Это тоже не inplace-операция:"
   ]
  },
  {
   "cell_type": "code",
   "metadata": {
    "id": "NRPamd2EYKBe",
    "colab": {
     "base_uri": "https://localhost:8080/"
    },
    "outputId": "6a8d5de2-9753-4b25-a31d-7f3910a235fe"
   },
   "source": [
    "a"
   ],
   "execution_count": 117,
   "outputs": [
    {
     "data": {
      "text/plain": "tensor([[  1.,   2.,   3.],\n        [ 10.,  20.,  30.],\n        [100., 200., 300.]])"
     },
     "execution_count": 117,
     "metadata": {},
     "output_type": "execute_result"
    }
   ]
  },
  {
   "cell_type": "markdown",
   "metadata": {
    "id": "q8YhoxHPYKBh"
   },
   "source": [
    "#### Скалярное произведение векторов"
   ]
  },
  {
   "cell_type": "code",
   "metadata": {
    "id": "i1pRtl7HYKBi"
   },
   "source": [
    "a = torch.FloatTensor([1, 2, 3, 4, 5, 6])\n",
    "b = torch.FloatTensor([-1, -2, -4, -6, -8, -10])"
   ],
   "execution_count": 118,
   "outputs": []
  },
  {
   "cell_type": "code",
   "metadata": {
    "id": "qcS-28dwYKBp",
    "colab": {
     "base_uri": "https://localhost:8080/"
    },
    "outputId": "9846a5f9-d2bf-4b3f-caf0-056fc0109ee8"
   },
   "source": [
    "a.dot(b)"
   ],
   "execution_count": 119,
   "outputs": [
    {
     "data": {
      "text/plain": "tensor(-141.)"
     },
     "execution_count": 119,
     "metadata": {},
     "output_type": "execute_result"
    }
   ]
  },
  {
   "cell_type": "code",
   "metadata": {
    "id": "sBiRR1V3LP-r",
    "colab": {
     "base_uri": "https://localhost:8080/"
    },
    "outputId": "b8b20971-79bb-4da6-b008-5e1a4a387b18"
   },
   "source": [
    "a.shape, b.shape"
   ],
   "execution_count": 120,
   "outputs": [
    {
     "data": {
      "text/plain": "(torch.Size([6]), torch.Size([6]))"
     },
     "execution_count": 120,
     "metadata": {},
     "output_type": "execute_result"
    }
   ]
  },
  {
   "cell_type": "code",
   "metadata": {
    "id": "MXyhOelQYKBs",
    "colab": {
     "base_uri": "https://localhost:8080/"
    },
    "outputId": "4f92a038-5f36-43e2-a4be-a50d321e1fdb"
   },
   "source": [
    "a @ b"
   ],
   "execution_count": 121,
   "outputs": [
    {
     "data": {
      "text/plain": "tensor(-141.)"
     },
     "execution_count": 121,
     "metadata": {},
     "output_type": "execute_result"
    }
   ]
  },
  {
   "cell_type": "code",
   "metadata": {
    "id": "sxqg4xhoYKBt",
    "colab": {
     "base_uri": "https://localhost:8080/"
    },
    "outputId": "cb1e601e-ecea-42f3-bf10-e12babfe57af"
   },
   "source": [
    "type(a)"
   ],
   "execution_count": 122,
   "outputs": [
    {
     "data": {
      "text/plain": "torch.Tensor"
     },
     "execution_count": 122,
     "metadata": {},
     "output_type": "execute_result"
    }
   ]
  },
  {
   "cell_type": "code",
   "metadata": {
    "id": "_v2ZjPqDYKBz",
    "colab": {
     "base_uri": "https://localhost:8080/"
    },
    "outputId": "d524bb4f-caf7-4e39-d681-9850f9fe63ec"
   },
   "source": [
    "type(b)"
   ],
   "execution_count": 123,
   "outputs": [
    {
     "data": {
      "text/plain": "torch.Tensor"
     },
     "execution_count": 123,
     "metadata": {},
     "output_type": "execute_result"
    }
   ]
  },
  {
   "cell_type": "code",
   "metadata": {
    "id": "UsWB9vTuYKB0",
    "colab": {
     "base_uri": "https://localhost:8080/"
    },
    "outputId": "37980664-95ee-4852-da62-5ca6772548a0"
   },
   "source": [
    "type(a @ b)"
   ],
   "execution_count": 124,
   "outputs": [
    {
     "data": {
      "text/plain": "torch.Tensor"
     },
     "execution_count": 124,
     "metadata": {},
     "output_type": "execute_result"
    }
   ]
  },
  {
   "cell_type": "markdown",
   "metadata": {
    "id": "KSrnLwkGYKB1"
   },
   "source": [
    "#### Матричное произведение"
   ]
  },
  {
   "cell_type": "code",
   "metadata": {
    "id": "ViurnbjPYKB2"
   },
   "source": [
    "a = torch.FloatTensor([[1, 2, 3], [10, 20, 30], [100, 200, 300]])\n",
    "b = torch.FloatTensor([[-1, -2, -3], [-10, -20, -30], [100, 200, 300]])"
   ],
   "execution_count": 125,
   "outputs": []
  },
  {
   "cell_type": "code",
   "metadata": {
    "id": "5TrCnfWiYKB3",
    "colab": {
     "base_uri": "https://localhost:8080/"
    },
    "outputId": "9d920c83-cd01-4207-ea73-3373efed9e9f"
   },
   "source": [
    "a.mm(b)"
   ],
   "execution_count": 126,
   "outputs": [
    {
     "data": {
      "text/plain": "tensor([[  279.,   558.,   837.],\n        [ 2790.,  5580.,  8370.],\n        [27900., 55800., 83700.]])"
     },
     "execution_count": 126,
     "metadata": {},
     "output_type": "execute_result"
    }
   ]
  },
  {
   "cell_type": "code",
   "metadata": {
    "id": "HMzIz-_MYKB4",
    "colab": {
     "base_uri": "https://localhost:8080/"
    },
    "outputId": "1f41001d-524f-43fe-ce7f-e602d5f54c3c"
   },
   "source": [
    "a @ b"
   ],
   "execution_count": 127,
   "outputs": [
    {
     "data": {
      "text/plain": "tensor([[  279.,   558.,   837.],\n        [ 2790.,  5580.,  8370.],\n        [27900., 55800., 83700.]])"
     },
     "execution_count": 127,
     "metadata": {},
     "output_type": "execute_result"
    }
   ]
  },
  {
   "cell_type": "code",
   "metadata": {
    "id": "vtuvt20-YKB8"
   },
   "source": [
    "a = torch.FloatTensor([[1, 2, 3], [10, 20, 30], [100, 200, 300]])\n",
    "b = torch.FloatTensor([[-1], [-10], [100]])"
   ],
   "execution_count": 128,
   "outputs": []
  },
  {
   "cell_type": "code",
   "metadata": {
    "id": "fdDnu5XjYKB9",
    "colab": {
     "base_uri": "https://localhost:8080/"
    },
    "outputId": "1a6c1ff2-a2e3-4f3f-8bd4-f644b9f82c97"
   },
   "source": [
    "print(a.shape, b.shape)"
   ],
   "execution_count": 129,
   "outputs": [
    {
     "name": "stdout",
     "output_type": "stream",
     "text": [
      "torch.Size([3, 3]) torch.Size([3, 1])\n"
     ]
    }
   ]
  },
  {
   "cell_type": "code",
   "metadata": {
    "id": "oD4N4WN8YKB_",
    "colab": {
     "base_uri": "https://localhost:8080/"
    },
    "outputId": "595cf2fb-820f-4029-fbc7-e21fc140ba9f"
   },
   "source": [
    "a @ b"
   ],
   "execution_count": 130,
   "outputs": [
    {
     "data": {
      "text/plain": "tensor([[  279.],\n        [ 2790.],\n        [27900.]])"
     },
     "execution_count": 130,
     "metadata": {},
     "output_type": "execute_result"
    }
   ]
  },
  {
   "cell_type": "markdown",
   "metadata": {
    "id": "va9w-BavYKCB"
   },
   "source": [
    "Тензор `b` можно развернуть в одномерный массив с помощью функции `torch.view(-1)`, чтобы результат был вектором"
   ]
  },
  {
   "cell_type": "code",
   "metadata": {
    "id": "V7KsdYcBYKCC",
    "colab": {
     "base_uri": "https://localhost:8080/"
    },
    "outputId": "3fd989f8-2b94-4082-af61-e1030a8ca47f"
   },
   "source": [
    "b"
   ],
   "execution_count": 131,
   "outputs": [
    {
     "data": {
      "text/plain": "tensor([[ -1.],\n        [-10.],\n        [100.]])"
     },
     "execution_count": 131,
     "metadata": {},
     "output_type": "execute_result"
    }
   ]
  },
  {
   "cell_type": "code",
   "metadata": {
    "id": "t7k6spayYKCF",
    "colab": {
     "base_uri": "https://localhost:8080/"
    },
    "outputId": "d3d8ed57-ab88-4b71-a28c-2d1b22e0b7e6"
   },
   "source": [
    "b.view(-1)"
   ],
   "execution_count": 132,
   "outputs": [
    {
     "data": {
      "text/plain": "tensor([ -1., -10., 100.])"
     },
     "execution_count": 132,
     "metadata": {},
     "output_type": "execute_result"
    }
   ]
  },
  {
   "cell_type": "code",
   "metadata": {
    "id": "8u8xQ20bYKCH",
    "colab": {
     "base_uri": "https://localhost:8080/"
    },
    "outputId": "c5b424dc-6824-46d9-d356-251cf6926933"
   },
   "source": [
    "a @ b.view(-1)"
   ],
   "execution_count": 133,
   "outputs": [
    {
     "data": {
      "text/plain": "tensor([  279.,  2790., 27900.])"
     },
     "execution_count": 133,
     "metadata": {},
     "output_type": "execute_result"
    }
   ]
  },
  {
   "cell_type": "code",
   "metadata": {
    "id": "QvCu1sJEYKCJ",
    "colab": {
     "base_uri": "https://localhost:8080/"
    },
    "outputId": "7dac2139-3516-4680-c588-3391fd199703"
   },
   "source": [
    "a.mv(b.view(-1))"
   ],
   "execution_count": 134,
   "outputs": [
    {
     "data": {
      "text/plain": "tensor([  279.,  2790., 27900.])"
     },
     "execution_count": 134,
     "metadata": {},
     "output_type": "execute_result"
    }
   ]
  },
  {
   "cell_type": "code",
   "metadata": {
    "id": "MAuGNC7EL3lq",
    "colab": {
     "base_uri": "https://localhost:8080/"
    },
    "outputId": "b97080cb-21cc-4145-db12-e9e13dc00537"
   },
   "source": [
    "y = torch.Tensor(2, 3, 4, 5)\n",
    "z = torch.Tensor(2, 3, 5, 6)\n",
    "(y @ z).shape"
   ],
   "execution_count": 135,
   "outputs": [
    {
     "data": {
      "text/plain": "torch.Size([2, 3, 4, 6])"
     },
     "execution_count": 135,
     "metadata": {},
     "output_type": "execute_result"
    }
   ]
  },
  {
   "cell_type": "markdown",
   "metadata": {
    "id": "gZitrCN6YKCL"
   },
   "source": [
    "## Конвертация\n",
    "#### Конвертация из Numpy в Pytorch:"
   ]
  },
  {
   "cell_type": "code",
   "metadata": {
    "id": "bnLS4CGXYKCL",
    "colab": {
     "base_uri": "https://localhost:8080/"
    },
    "outputId": "4695cd5a-bde6-4c62-cbfe-59a72102fb51"
   },
   "source": [
    "import numpy as np\n",
    "\n",
    "a = np.random.rand(3, 3)\n",
    "a"
   ],
   "execution_count": 136,
   "outputs": [
    {
     "data": {
      "text/plain": "array([[0.73275102, 0.37896257, 0.81718982],\n       [0.57483967, 0.94515432, 0.52412069],\n       [0.14673793, 0.04604251, 0.12108041]])"
     },
     "execution_count": 136,
     "metadata": {},
     "output_type": "execute_result"
    }
   ]
  },
  {
   "cell_type": "code",
   "metadata": {
    "id": "PXge57waYKCM",
    "colab": {
     "base_uri": "https://localhost:8080/"
    },
    "outputId": "1602fee2-f37c-4c9a-f871-fcd6954a7263"
   },
   "source": [
    "b = torch.from_numpy(a)\n",
    "b"
   ],
   "execution_count": 137,
   "outputs": [
    {
     "data": {
      "text/plain": "tensor([[0.7328, 0.3790, 0.8172],\n        [0.5748, 0.9452, 0.5241],\n        [0.1467, 0.0460, 0.1211]], dtype=torch.float64)"
     },
     "execution_count": 137,
     "metadata": {},
     "output_type": "execute_result"
    }
   ]
  },
  {
   "cell_type": "markdown",
   "metadata": {
    "id": "Nvcr3ymPYKCN"
   },
   "source": [
    "**Внимание!** `a` и `b` хранятся в одной и той же ячейке данных. Если именить один тензор, то изменится и другой."
   ]
  },
  {
   "cell_type": "code",
   "metadata": {
    "id": "0N_ZW6TQYKCN",
    "colab": {
     "base_uri": "https://localhost:8080/"
    },
    "outputId": "1d419bf2-5353-4cea-bd85-e6ce1ea3255d"
   },
   "source": [
    "b -= b\n",
    "b"
   ],
   "execution_count": 138,
   "outputs": [
    {
     "data": {
      "text/plain": "tensor([[0., 0., 0.],\n        [0., 0., 0.],\n        [0., 0., 0.]], dtype=torch.float64)"
     },
     "execution_count": 138,
     "metadata": {},
     "output_type": "execute_result"
    }
   ]
  },
  {
   "cell_type": "code",
   "metadata": {
    "id": "wzUnCKsiYKCP",
    "colab": {
     "base_uri": "https://localhost:8080/"
    },
    "outputId": "fdefbd15-9512-4752-a16a-13a1aaf03704"
   },
   "source": [
    "a"
   ],
   "execution_count": 139,
   "outputs": [
    {
     "data": {
      "text/plain": "array([[0., 0., 0.],\n       [0., 0., 0.],\n       [0., 0., 0.]])"
     },
     "execution_count": 139,
     "metadata": {},
     "output_type": "execute_result"
    }
   ]
  },
  {
   "cell_type": "markdown",
   "metadata": {
    "id": "Al73RqKSYKCR"
   },
   "source": [
    "#### Конвертация из Torch в Numpy"
   ]
  },
  {
   "cell_type": "code",
   "metadata": {
    "id": "u5rngw4vYKCR",
    "colab": {
     "base_uri": "https://localhost:8080/"
    },
    "outputId": "8a8561d2-8199-4dbd-fb0d-c27dec81755f"
   },
   "source": [
    "a = torch.FloatTensor(2, 3, 4)\n",
    "a"
   ],
   "execution_count": 140,
   "outputs": [
    {
     "data": {
      "text/plain": "tensor([[[6.0041e+31, 4.2964e+24, 4.8418e+30, 1.6926e+22],\n         [5.7886e+22, 6.7120e+22, 1.1632e+33, 5.6003e-02],\n         [7.0374e+22, 6.9983e+28, 1.9859e+29, 4.3218e+27]],\n\n        [[4.7423e+30, 2.2856e+20, 3.2607e-12, 7.4086e+28],\n         [7.1463e+22, 4.6241e+30, 1.0552e+24, 5.5757e-02],\n         [1.8728e+31, 1.4850e-41, 2.1019e-44, 0.0000e+00]]])"
     },
     "execution_count": 140,
     "metadata": {},
     "output_type": "execute_result"
    }
   ]
  },
  {
   "cell_type": "code",
   "metadata": {
    "id": "yjK68Kk-YKCS",
    "colab": {
     "base_uri": "https://localhost:8080/"
    },
    "outputId": "8d0cd1e7-e497-44ac-c42c-6be7afd6c96b"
   },
   "source": [
    "type(a)"
   ],
   "execution_count": 141,
   "outputs": [
    {
     "data": {
      "text/plain": "torch.Tensor"
     },
     "execution_count": 141,
     "metadata": {},
     "output_type": "execute_result"
    }
   ]
  },
  {
   "cell_type": "code",
   "metadata": {
    "id": "viLUF7gQYKCU",
    "colab": {
     "base_uri": "https://localhost:8080/"
    },
    "outputId": "57c34d40-d599-4e65-ce84-1b2b23ca80ff"
   },
   "source": [
    "x = a.numpy()\n",
    "x"
   ],
   "execution_count": 142,
   "outputs": [
    {
     "data": {
      "text/plain": "array([[[6.0040658e+31, 4.2963525e+24, 4.8418295e+30, 1.6926159e+22],\n        [5.7886081e+22, 6.7120163e+22, 1.1631511e+33, 5.6003008e-02],\n        [7.0373527e+22, 6.9982506e+28, 1.9859476e+29, 4.3217897e+27]],\n\n       [[4.7423467e+30, 2.2855531e+20, 3.2606929e-12, 7.4085543e+28],\n        [7.1463173e+22, 4.6241271e+30, 1.0552164e+24, 5.5756994e-02],\n        [1.8727951e+31, 1.4849560e-41, 2.1019477e-44, 0.0000000e+00]]],\n      dtype=float32)"
     },
     "execution_count": 142,
     "metadata": {},
     "output_type": "execute_result"
    }
   ]
  },
  {
   "cell_type": "code",
   "metadata": {
    "id": "9HxgiLxKYKCV",
    "colab": {
     "base_uri": "https://localhost:8080/"
    },
    "outputId": "24ec3459-041d-49c8-cd68-4f7d6531622e"
   },
   "source": [
    "x.shape"
   ],
   "execution_count": 143,
   "outputs": [
    {
     "data": {
      "text/plain": "(2, 3, 4)"
     },
     "execution_count": 143,
     "metadata": {},
     "output_type": "execute_result"
    }
   ]
  },
  {
   "cell_type": "code",
   "metadata": {
    "id": "SdW5bhmeYKCX",
    "colab": {
     "base_uri": "https://localhost:8080/"
    },
    "outputId": "ec9284db-ac45-411c-e93a-aa0458d08f6c"
   },
   "source": [
    "type(x)"
   ],
   "execution_count": 144,
   "outputs": [
    {
     "data": {
      "text/plain": "numpy.ndarray"
     },
     "execution_count": 144,
     "metadata": {},
     "output_type": "execute_result"
    }
   ]
  },
  {
   "cell_type": "code",
   "metadata": {
    "id": "GbCc-vnWDj1l"
   },
   "source": [
    "x -= x"
   ],
   "execution_count": 145,
   "outputs": []
  },
  {
   "cell_type": "code",
   "metadata": {
    "id": "Ui-4DptBDlet",
    "colab": {
     "base_uri": "https://localhost:8080/"
    },
    "outputId": "ec2f647c-0192-4c15-b45c-b4b853818345"
   },
   "source": [
    "a"
   ],
   "execution_count": 146,
   "outputs": [
    {
     "data": {
      "text/plain": "tensor([[[0., 0., 0., 0.],\n         [0., 0., 0., 0.],\n         [0., 0., 0., 0.]],\n\n        [[0., 0., 0., 0.],\n         [0., 0., 0., 0.],\n         [0., 0., 0., 0.]]])"
     },
     "execution_count": 146,
     "metadata": {},
     "output_type": "execute_result"
    }
   ]
  },
  {
   "cell_type": "markdown",
   "metadata": {
    "id": "7-KS81rUYKCY"
   },
   "source": [
    "#### Задание. Реализация функции forward\n",
    "Реализуйте функцию `forward_pass(X, w)` для одного нейрона нейронной сети с активацией ``sigmoid``. Используйте библиотеку PyTorch"
   ]
  },
  {
   "cell_type": "markdown",
   "metadata": {
    "id": "C8dmwhWGxzwl"
   },
   "source": [
    "<img src='https://radioprog.ru/uploads/media/articles/0001/05/267ad35a9e64a7b92c2e3b94940f686816ea6bf8.jpeg'>"
   ]
  },
  {
   "cell_type": "code",
   "metadata": {
    "id": "vkaIwpn6YKCY"
   },
   "source": [
    "def forward_pass(X, w):\n",
    "\n",
    "  logits = X @ w\n",
    "  result  = torch.sigmoid(logits)\n",
    "\n",
    "  return result\n",
    "\n",
    "\n",
    "  \n"
   ],
   "execution_count": 147,
   "outputs": []
  },
  {
   "cell_type": "code",
   "metadata": {
    "id": "VyqlDItxYKCZ",
    "colab": {
     "base_uri": "https://localhost:8080/"
    },
    "outputId": "025892ad-c358-4416-b62e-37035bd5e03b"
   },
   "source": [
    "X = torch.FloatTensor([[-5, 5], [2, 3], [1, -1]])\n",
    "print(X.shape)\n",
    "w = torch.FloatTensor([[-0.5], [2.5]])\n",
    "print(w.shape)\n",
    "result = forward_pass(X, w)\n",
    "print('result: {}'.format(result))"
   ],
   "execution_count": 148,
   "outputs": [
    {
     "name": "stdout",
     "output_type": "stream",
     "text": [
      "torch.Size([3, 2])\n",
      "torch.Size([2, 1])\n",
      "result: tensor([[1.0000],\n",
      "        [0.9985],\n",
      "        [0.0474]])\n"
     ]
    }
   ]
  },
  {
   "cell_type": "markdown",
   "metadata": {
    "id": "MzLVLQ2GYKCa"
   },
   "source": [
    "## <h1 style=\"text-align: center;\"><a href=\"https://ru.wikipedia.org/wiki/CUDA\">CUDA</a></h3>\n",
    "\n",
    "CUDA --- это программно-аппаратная архитектура параллельных вычислений, которая позволяет существенно увеличить вычислительную производительность благодаря использованию графических процессоров фирмы Nvidia. Для нас CUDA --- это драйвер, который позволяет нам проводить вычисления на GPU."
   ]
  },
  {
   "cell_type": "markdown",
   "metadata": {
    "id": "PrIicAAiYKCa"
   },
   "source": [
    "[CUDA documentation](https://docs.nvidia.com/cuda/)"
   ]
  },
  {
   "cell_type": "markdown",
   "metadata": {
    "id": "2nDkAG6NYKCa"
   },
   "source": [
    "Для вычислений на Pytorch мы можем использовать как CPU (Central Processing Unit), так и GPU (Graphical Processing Unit). Между ними можно легко переключаться, и это очень важно!"
   ]
  },
  {
   "cell_type": "code",
   "metadata": {
    "id": "_0Nsl2IoYKCa",
    "colab": {
     "base_uri": "https://localhost:8080/"
    },
    "outputId": "387a73a2-2cb9-443b-e0bc-09b13b4ce677"
   },
   "source": [
    "x = torch.FloatTensor(1024, 10024).uniform_()\n",
    "x"
   ],
   "execution_count": 149,
   "outputs": [
    {
     "data": {
      "text/plain": "tensor([[0.1762, 0.6378, 0.9867,  ..., 0.5650, 0.4329, 0.2718],\n        [0.7975, 0.3263, 0.3915,  ..., 0.3923, 0.7714, 0.7801],\n        [0.5957, 0.5126, 0.4624,  ..., 0.7961, 0.4836, 0.0884],\n        ...,\n        [0.7276, 0.6731, 0.5968,  ..., 0.2891, 0.3146, 0.9427],\n        [0.8692, 0.1121, 0.9771,  ..., 0.7261, 0.6331, 0.4054],\n        [0.5509, 0.7586, 0.7141,  ..., 0.0909, 0.1570, 0.9054]])"
     },
     "execution_count": 149,
     "metadata": {},
     "output_type": "execute_result"
    }
   ]
  },
  {
   "cell_type": "code",
   "metadata": {
    "id": "FVr5_SAdYKCb",
    "colab": {
     "base_uri": "https://localhost:8080/"
    },
    "outputId": "e9ddd4ef-937f-40cb-989e-974286c6d1c6"
   },
   "source": [
    "x.is_cuda"
   ],
   "execution_count": 150,
   "outputs": [
    {
     "data": {
      "text/plain": "False"
     },
     "execution_count": 150,
     "metadata": {},
     "output_type": "execute_result"
    }
   ]
  },
  {
   "cell_type": "markdown",
   "metadata": {
    "id": "mAy8GGXAYKCd"
   },
   "source": [
    "#### Кладём тензор на GPU"
   ]
  },
  {
   "cell_type": "code",
   "metadata": {
    "id": "Pofrx0jug6QM",
    "colab": {
     "base_uri": "https://localhost:8080/"
    },
    "outputId": "471b7407-a2bc-4dce-868b-5ac116722353"
   },
   "source": [
    "!nvidia-smi"
   ],
   "execution_count": 151,
   "outputs": [
    {
     "name": "stdout",
     "output_type": "stream",
     "text": [
      "Sat Mar 19 15:19:35 2022       \n",
      "+-----------------------------------------------------------------------------+\n",
      "| NVIDIA-SMI 511.23       Driver Version: 511.23       CUDA Version: 11.6     |\n",
      "|-------------------------------+----------------------+----------------------+\n",
      "| GPU  Name            TCC/WDDM | Bus-Id        Disp.A | Volatile Uncorr. ECC |\n",
      "| Fan  Temp  Perf  Pwr:Usage/Cap|         Memory-Usage | GPU-Util  Compute M. |\n",
      "|                               |                      |               MIG M. |\n",
      "|===============================+======================+======================|\n",
      "|   0  NVIDIA GeForce ... WDDM  | 00000000:06:00.0  On |                  N/A |\n",
      "| 29%   44C    P5    22W / 125W |   2401MiB /  6144MiB |      8%      Default |\n",
      "|                               |                      |                  N/A |\n",
      "+-------------------------------+----------------------+----------------------+\n",
      "                                                                               \n",
      "+-----------------------------------------------------------------------------+\n",
      "| Processes:                                                                  |\n",
      "|  GPU   GI   CI        PID   Type   Process name                  GPU Memory |\n",
      "|        ID   ID                                                   Usage      |\n",
      "|=============================================================================|\n",
      "|    0   N/A  N/A      1304      C   ...a\\envs\\Pytorch\\python.exe    N/A      |\n",
      "|    0   N/A  N/A      6608    C+G   ...artMenuExperienceHost.exe    N/A      |\n",
      "|    0   N/A  N/A      7376    C+G   ...lPanel\\SystemSettings.exe    N/A      |\n",
      "|    0   N/A  N/A      7940    C+G   C:\\Windows\\explorer.exe         N/A      |\n",
      "|    0   N/A  N/A      8664    C+G   ...3\\jbr\\bin\\jcef_helper.exe    N/A      |\n",
      "|    0   N/A  N/A      8956    C+G   ...r\\Application\\browser.exe    N/A      |\n",
      "|    0   N/A  N/A      9548    C+G   ...nputApp\\TextInputHost.exe    N/A      |\n",
      "|    0   N/A  N/A     10204    C+G   ...bbwe\\Microsoft.Photos.exe    N/A      |\n",
      "|    0   N/A  N/A     12392    C+G   ...y\\ShellExperienceHost.exe    N/A      |\n",
      "|    0   N/A  N/A     13484    C+G   ...ekyb3d8bbwe\\YourPhone.exe    N/A      |\n",
      "|    0   N/A  N/A     14840    C+G   ...5n1h2txyewy\\SearchApp.exe    N/A      |\n",
      "|    0   N/A  N/A     15504    C+G   ...perience\\NVIDIA Share.exe    N/A      |\n",
      "|    0   N/A  N/A     16228    C+G   ...cw5n1h2txyewy\\LockApp.exe    N/A      |\n",
      "|    0   N/A  N/A     16492    C+G   ...8wekyb3d8bbwe\\Cortana.exe    N/A      |\n",
      "|    0   N/A  N/A     16720    C+G                                   N/A      |\n",
      "|    0   N/A  N/A     17292    C+G   ...me\\Application\\chrome.exe    N/A      |\n",
      "+-----------------------------------------------------------------------------+\n"
     ]
    }
   ]
  },
  {
   "cell_type": "code",
   "metadata": {
    "id": "6UGKZbfyYKCd"
   },
   "source": [
    "x = x.cuda()"
   ],
   "execution_count": 152,
   "outputs": []
  },
  {
   "cell_type": "code",
   "metadata": {
    "id": "RwvXhDD2gezR",
    "colab": {
     "base_uri": "https://localhost:8080/"
    },
    "outputId": "7ae0ecc3-0c00-4f03-db1e-6e6f303ebf8b"
   },
   "source": [
    "!nvidia-smi"
   ],
   "execution_count": 153,
   "outputs": [
    {
     "name": "stdout",
     "output_type": "stream",
     "text": [
      "Sat Mar 19 15:19:36 2022       \n",
      "+-----------------------------------------------------------------------------+\n",
      "| NVIDIA-SMI 511.23       Driver Version: 511.23       CUDA Version: 11.6     |\n",
      "|-------------------------------+----------------------+----------------------+\n",
      "| GPU  Name            TCC/WDDM | Bus-Id        Disp.A | Volatile Uncorr. ECC |\n",
      "| Fan  Temp  Perf  Pwr:Usage/Cap|         Memory-Usage | GPU-Util  Compute M. |\n",
      "|                               |                      |               MIG M. |\n",
      "|===============================+======================+======================|\n",
      "|   0  NVIDIA GeForce ... WDDM  | 00000000:06:00.0  On |                  N/A |\n",
      "| 29%   44C    P2    42W / 125W |   2498MiB /  6144MiB |     17%      Default |\n",
      "|                               |                      |                  N/A |\n",
      "+-------------------------------+----------------------+----------------------+\n",
      "                                                                               \n",
      "+-----------------------------------------------------------------------------+\n",
      "| Processes:                                                                  |\n",
      "|  GPU   GI   CI        PID   Type   Process name                  GPU Memory |\n",
      "|        ID   ID                                                   Usage      |\n",
      "|=============================================================================|\n",
      "|    0   N/A  N/A      1304      C   ...a\\envs\\Pytorch\\python.exe    N/A      |\n",
      "|    0   N/A  N/A      6608    C+G   ...artMenuExperienceHost.exe    N/A      |\n",
      "|    0   N/A  N/A      7376    C+G   ...lPanel\\SystemSettings.exe    N/A      |\n",
      "|    0   N/A  N/A      7940    C+G   C:\\Windows\\explorer.exe         N/A      |\n",
      "|    0   N/A  N/A      8664    C+G   ...3\\jbr\\bin\\jcef_helper.exe    N/A      |\n",
      "|    0   N/A  N/A      8956    C+G   ...r\\Application\\browser.exe    N/A      |\n",
      "|    0   N/A  N/A      9548    C+G   ...nputApp\\TextInputHost.exe    N/A      |\n",
      "|    0   N/A  N/A     10204    C+G   ...bbwe\\Microsoft.Photos.exe    N/A      |\n",
      "|    0   N/A  N/A     10516      C   ...a\\envs\\Pytorch\\python.exe    N/A      |\n",
      "|    0   N/A  N/A     12392    C+G   ...y\\ShellExperienceHost.exe    N/A      |\n",
      "|    0   N/A  N/A     13484    C+G   ...ekyb3d8bbwe\\YourPhone.exe    N/A      |\n",
      "|    0   N/A  N/A     14840    C+G   ...5n1h2txyewy\\SearchApp.exe    N/A      |\n",
      "|    0   N/A  N/A     15504    C+G   ...perience\\NVIDIA Share.exe    N/A      |\n",
      "|    0   N/A  N/A     16228    C+G   ...cw5n1h2txyewy\\LockApp.exe    N/A      |\n",
      "|    0   N/A  N/A     16492    C+G   ...8wekyb3d8bbwe\\Cortana.exe    N/A      |\n",
      "|    0   N/A  N/A     16720    C+G                                   N/A      |\n",
      "|    0   N/A  N/A     17292    C+G   ...me\\Application\\chrome.exe    N/A      |\n",
      "+-----------------------------------------------------------------------------+\n"
     ]
    }
   ]
  },
  {
   "cell_type": "code",
   "metadata": {
    "id": "hyhJsU5ib591",
    "colab": {
     "base_uri": "https://localhost:8080/"
    },
    "outputId": "cac2f2c4-d926-48dc-e823-8f3c7ef12dfd"
   },
   "source": [
    "x"
   ],
   "execution_count": 154,
   "outputs": [
    {
     "ename": "KeyboardInterrupt",
     "evalue": "",
     "output_type": "error",
     "traceback": [
      "\u001B[1;31m---------------------------------------------------------------------------\u001B[0m",
      "\u001B[1;31mKeyboardInterrupt\u001B[0m                         Traceback (most recent call last)",
      "\u001B[1;32mC:\\Users\\C6A6~1\\AppData\\Local\\Temp/ipykernel_10516/3618968493.py\u001B[0m in \u001B[0;36m<module>\u001B[1;34m\u001B[0m\n\u001B[1;32m----> 1\u001B[1;33m \u001B[0mx\u001B[0m\u001B[1;33m\u001B[0m\u001B[1;33m\u001B[0m\u001B[0m\n\u001B[0m",
      "\u001B[1;32mD:\\Anaconda\\envs\\Pytorch\\lib\\site-packages\\IPython\\core\\displayhook.py\u001B[0m in \u001B[0;36m__call__\u001B[1;34m(self, result)\u001B[0m\n\u001B[0;32m    260\u001B[0m             \u001B[0mself\u001B[0m\u001B[1;33m.\u001B[0m\u001B[0mstart_displayhook\u001B[0m\u001B[1;33m(\u001B[0m\u001B[1;33m)\u001B[0m\u001B[1;33m\u001B[0m\u001B[1;33m\u001B[0m\u001B[0m\n\u001B[0;32m    261\u001B[0m             \u001B[0mself\u001B[0m\u001B[1;33m.\u001B[0m\u001B[0mwrite_output_prompt\u001B[0m\u001B[1;33m(\u001B[0m\u001B[1;33m)\u001B[0m\u001B[1;33m\u001B[0m\u001B[1;33m\u001B[0m\u001B[0m\n\u001B[1;32m--> 262\u001B[1;33m             \u001B[0mformat_dict\u001B[0m\u001B[1;33m,\u001B[0m \u001B[0mmd_dict\u001B[0m \u001B[1;33m=\u001B[0m \u001B[0mself\u001B[0m\u001B[1;33m.\u001B[0m\u001B[0mcompute_format_data\u001B[0m\u001B[1;33m(\u001B[0m\u001B[0mresult\u001B[0m\u001B[1;33m)\u001B[0m\u001B[1;33m\u001B[0m\u001B[1;33m\u001B[0m\u001B[0m\n\u001B[0m\u001B[0;32m    263\u001B[0m             \u001B[0mself\u001B[0m\u001B[1;33m.\u001B[0m\u001B[0mupdate_user_ns\u001B[0m\u001B[1;33m(\u001B[0m\u001B[0mresult\u001B[0m\u001B[1;33m)\u001B[0m\u001B[1;33m\u001B[0m\u001B[1;33m\u001B[0m\u001B[0m\n\u001B[0;32m    264\u001B[0m             \u001B[0mself\u001B[0m\u001B[1;33m.\u001B[0m\u001B[0mfill_exec_result\u001B[0m\u001B[1;33m(\u001B[0m\u001B[0mresult\u001B[0m\u001B[1;33m)\u001B[0m\u001B[1;33m\u001B[0m\u001B[1;33m\u001B[0m\u001B[0m\n",
      "\u001B[1;32mD:\\Anaconda\\envs\\Pytorch\\lib\\site-packages\\IPython\\core\\displayhook.py\u001B[0m in \u001B[0;36mcompute_format_data\u001B[1;34m(self, result)\u001B[0m\n\u001B[0;32m    149\u001B[0m \u001B[1;33m\u001B[0m\u001B[0m\n\u001B[0;32m    150\u001B[0m         \"\"\"\n\u001B[1;32m--> 151\u001B[1;33m         \u001B[1;32mreturn\u001B[0m \u001B[0mself\u001B[0m\u001B[1;33m.\u001B[0m\u001B[0mshell\u001B[0m\u001B[1;33m.\u001B[0m\u001B[0mdisplay_formatter\u001B[0m\u001B[1;33m.\u001B[0m\u001B[0mformat\u001B[0m\u001B[1;33m(\u001B[0m\u001B[0mresult\u001B[0m\u001B[1;33m)\u001B[0m\u001B[1;33m\u001B[0m\u001B[1;33m\u001B[0m\u001B[0m\n\u001B[0m\u001B[0;32m    152\u001B[0m \u001B[1;33m\u001B[0m\u001B[0m\n\u001B[0;32m    153\u001B[0m     \u001B[1;31m# This can be set to True by the write_output_prompt method in a subclass\u001B[0m\u001B[1;33m\u001B[0m\u001B[1;33m\u001B[0m\u001B[1;33m\u001B[0m\u001B[0m\n",
      "\u001B[1;32mD:\\Anaconda\\envs\\Pytorch\\lib\\site-packages\\IPython\\core\\formatters.py\u001B[0m in \u001B[0;36mformat\u001B[1;34m(self, obj, include, exclude)\u001B[0m\n\u001B[0;32m    178\u001B[0m             \u001B[0mmd\u001B[0m \u001B[1;33m=\u001B[0m \u001B[1;32mNone\u001B[0m\u001B[1;33m\u001B[0m\u001B[1;33m\u001B[0m\u001B[0m\n\u001B[0;32m    179\u001B[0m             \u001B[1;32mtry\u001B[0m\u001B[1;33m:\u001B[0m\u001B[1;33m\u001B[0m\u001B[1;33m\u001B[0m\u001B[0m\n\u001B[1;32m--> 180\u001B[1;33m                 \u001B[0mdata\u001B[0m \u001B[1;33m=\u001B[0m \u001B[0mformatter\u001B[0m\u001B[1;33m(\u001B[0m\u001B[0mobj\u001B[0m\u001B[1;33m)\u001B[0m\u001B[1;33m\u001B[0m\u001B[1;33m\u001B[0m\u001B[0m\n\u001B[0m\u001B[0;32m    181\u001B[0m             \u001B[1;32mexcept\u001B[0m\u001B[1;33m:\u001B[0m\u001B[1;33m\u001B[0m\u001B[1;33m\u001B[0m\u001B[0m\n\u001B[0;32m    182\u001B[0m                 \u001B[1;31m# FIXME: log the exception\u001B[0m\u001B[1;33m\u001B[0m\u001B[1;33m\u001B[0m\u001B[1;33m\u001B[0m\u001B[0m\n",
      "\u001B[1;32mD:\\Anaconda\\envs\\Pytorch\\lib\\site-packages\\decorator.py\u001B[0m in \u001B[0;36mfun\u001B[1;34m(*args, **kw)\u001B[0m\n\u001B[0;32m    230\u001B[0m             \u001B[1;32mif\u001B[0m \u001B[1;32mnot\u001B[0m \u001B[0mkwsyntax\u001B[0m\u001B[1;33m:\u001B[0m\u001B[1;33m\u001B[0m\u001B[1;33m\u001B[0m\u001B[0m\n\u001B[0;32m    231\u001B[0m                 \u001B[0margs\u001B[0m\u001B[1;33m,\u001B[0m \u001B[0mkw\u001B[0m \u001B[1;33m=\u001B[0m \u001B[0mfix\u001B[0m\u001B[1;33m(\u001B[0m\u001B[0margs\u001B[0m\u001B[1;33m,\u001B[0m \u001B[0mkw\u001B[0m\u001B[1;33m,\u001B[0m \u001B[0msig\u001B[0m\u001B[1;33m)\u001B[0m\u001B[1;33m\u001B[0m\u001B[1;33m\u001B[0m\u001B[0m\n\u001B[1;32m--> 232\u001B[1;33m             \u001B[1;32mreturn\u001B[0m \u001B[0mcaller\u001B[0m\u001B[1;33m(\u001B[0m\u001B[0mfunc\u001B[0m\u001B[1;33m,\u001B[0m \u001B[1;33m*\u001B[0m\u001B[1;33m(\u001B[0m\u001B[0mextras\u001B[0m \u001B[1;33m+\u001B[0m \u001B[0margs\u001B[0m\u001B[1;33m)\u001B[0m\u001B[1;33m,\u001B[0m \u001B[1;33m**\u001B[0m\u001B[0mkw\u001B[0m\u001B[1;33m)\u001B[0m\u001B[1;33m\u001B[0m\u001B[1;33m\u001B[0m\u001B[0m\n\u001B[0m\u001B[0;32m    233\u001B[0m     \u001B[0mfun\u001B[0m\u001B[1;33m.\u001B[0m\u001B[0m__name__\u001B[0m \u001B[1;33m=\u001B[0m \u001B[0mfunc\u001B[0m\u001B[1;33m.\u001B[0m\u001B[0m__name__\u001B[0m\u001B[1;33m\u001B[0m\u001B[1;33m\u001B[0m\u001B[0m\n\u001B[0;32m    234\u001B[0m     \u001B[0mfun\u001B[0m\u001B[1;33m.\u001B[0m\u001B[0m__doc__\u001B[0m \u001B[1;33m=\u001B[0m \u001B[0mfunc\u001B[0m\u001B[1;33m.\u001B[0m\u001B[0m__doc__\u001B[0m\u001B[1;33m\u001B[0m\u001B[1;33m\u001B[0m\u001B[0m\n",
      "\u001B[1;32mD:\\Anaconda\\envs\\Pytorch\\lib\\site-packages\\IPython\\core\\formatters.py\u001B[0m in \u001B[0;36mcatch_format_error\u001B[1;34m(method, self, *args, **kwargs)\u001B[0m\n\u001B[0;32m    222\u001B[0m     \u001B[1;34m\"\"\"show traceback on failed format call\"\"\"\u001B[0m\u001B[1;33m\u001B[0m\u001B[1;33m\u001B[0m\u001B[0m\n\u001B[0;32m    223\u001B[0m     \u001B[1;32mtry\u001B[0m\u001B[1;33m:\u001B[0m\u001B[1;33m\u001B[0m\u001B[1;33m\u001B[0m\u001B[0m\n\u001B[1;32m--> 224\u001B[1;33m         \u001B[0mr\u001B[0m \u001B[1;33m=\u001B[0m \u001B[0mmethod\u001B[0m\u001B[1;33m(\u001B[0m\u001B[0mself\u001B[0m\u001B[1;33m,\u001B[0m \u001B[1;33m*\u001B[0m\u001B[0margs\u001B[0m\u001B[1;33m,\u001B[0m \u001B[1;33m**\u001B[0m\u001B[0mkwargs\u001B[0m\u001B[1;33m)\u001B[0m\u001B[1;33m\u001B[0m\u001B[1;33m\u001B[0m\u001B[0m\n\u001B[0m\u001B[0;32m    225\u001B[0m     \u001B[1;32mexcept\u001B[0m \u001B[0mNotImplementedError\u001B[0m\u001B[1;33m:\u001B[0m\u001B[1;33m\u001B[0m\u001B[1;33m\u001B[0m\u001B[0m\n\u001B[0;32m    226\u001B[0m         \u001B[1;31m# don't warn on NotImplementedErrors\u001B[0m\u001B[1;33m\u001B[0m\u001B[1;33m\u001B[0m\u001B[1;33m\u001B[0m\u001B[0m\n",
      "\u001B[1;32mD:\\Anaconda\\envs\\Pytorch\\lib\\site-packages\\IPython\\core\\formatters.py\u001B[0m in \u001B[0;36m__call__\u001B[1;34m(self, obj)\u001B[0m\n\u001B[0;32m    700\u001B[0m                 \u001B[0mtype_pprinters\u001B[0m\u001B[1;33m=\u001B[0m\u001B[0mself\u001B[0m\u001B[1;33m.\u001B[0m\u001B[0mtype_printers\u001B[0m\u001B[1;33m,\u001B[0m\u001B[1;33m\u001B[0m\u001B[1;33m\u001B[0m\u001B[0m\n\u001B[0;32m    701\u001B[0m                 deferred_pprinters=self.deferred_printers)\n\u001B[1;32m--> 702\u001B[1;33m             \u001B[0mprinter\u001B[0m\u001B[1;33m.\u001B[0m\u001B[0mpretty\u001B[0m\u001B[1;33m(\u001B[0m\u001B[0mobj\u001B[0m\u001B[1;33m)\u001B[0m\u001B[1;33m\u001B[0m\u001B[1;33m\u001B[0m\u001B[0m\n\u001B[0m\u001B[0;32m    703\u001B[0m             \u001B[0mprinter\u001B[0m\u001B[1;33m.\u001B[0m\u001B[0mflush\u001B[0m\u001B[1;33m(\u001B[0m\u001B[1;33m)\u001B[0m\u001B[1;33m\u001B[0m\u001B[1;33m\u001B[0m\u001B[0m\n\u001B[0;32m    704\u001B[0m             \u001B[1;32mreturn\u001B[0m \u001B[0mstream\u001B[0m\u001B[1;33m.\u001B[0m\u001B[0mgetvalue\u001B[0m\u001B[1;33m(\u001B[0m\u001B[1;33m)\u001B[0m\u001B[1;33m\u001B[0m\u001B[1;33m\u001B[0m\u001B[0m\n",
      "\u001B[1;32mD:\\Anaconda\\envs\\Pytorch\\lib\\site-packages\\IPython\\lib\\pretty.py\u001B[0m in \u001B[0;36mpretty\u001B[1;34m(self, obj)\u001B[0m\n\u001B[0;32m    392\u001B[0m                         \u001B[1;32mif\u001B[0m \u001B[0mcls\u001B[0m \u001B[1;32mis\u001B[0m \u001B[1;32mnot\u001B[0m \u001B[0mobject\u001B[0m\u001B[0;31m \u001B[0m\u001B[0;31m\\\u001B[0m\u001B[1;33m\u001B[0m\u001B[1;33m\u001B[0m\u001B[0m\n\u001B[0;32m    393\u001B[0m                                 \u001B[1;32mand\u001B[0m \u001B[0mcallable\u001B[0m\u001B[1;33m(\u001B[0m\u001B[0mcls\u001B[0m\u001B[1;33m.\u001B[0m\u001B[0m__dict__\u001B[0m\u001B[1;33m.\u001B[0m\u001B[0mget\u001B[0m\u001B[1;33m(\u001B[0m\u001B[1;34m'__repr__'\u001B[0m\u001B[1;33m)\u001B[0m\u001B[1;33m)\u001B[0m\u001B[1;33m:\u001B[0m\u001B[1;33m\u001B[0m\u001B[1;33m\u001B[0m\u001B[0m\n\u001B[1;32m--> 394\u001B[1;33m                             \u001B[1;32mreturn\u001B[0m \u001B[0m_repr_pprint\u001B[0m\u001B[1;33m(\u001B[0m\u001B[0mobj\u001B[0m\u001B[1;33m,\u001B[0m \u001B[0mself\u001B[0m\u001B[1;33m,\u001B[0m \u001B[0mcycle\u001B[0m\u001B[1;33m)\u001B[0m\u001B[1;33m\u001B[0m\u001B[1;33m\u001B[0m\u001B[0m\n\u001B[0m\u001B[0;32m    395\u001B[0m \u001B[1;33m\u001B[0m\u001B[0m\n\u001B[0;32m    396\u001B[0m             \u001B[1;32mreturn\u001B[0m \u001B[0m_default_pprint\u001B[0m\u001B[1;33m(\u001B[0m\u001B[0mobj\u001B[0m\u001B[1;33m,\u001B[0m \u001B[0mself\u001B[0m\u001B[1;33m,\u001B[0m \u001B[0mcycle\u001B[0m\u001B[1;33m)\u001B[0m\u001B[1;33m\u001B[0m\u001B[1;33m\u001B[0m\u001B[0m\n",
      "\u001B[1;32mD:\\Anaconda\\envs\\Pytorch\\lib\\site-packages\\IPython\\lib\\pretty.py\u001B[0m in \u001B[0;36m_repr_pprint\u001B[1;34m(obj, p, cycle)\u001B[0m\n\u001B[0;32m    698\u001B[0m     \u001B[1;34m\"\"\"A pprint that just redirects to the normal repr function.\"\"\"\u001B[0m\u001B[1;33m\u001B[0m\u001B[1;33m\u001B[0m\u001B[0m\n\u001B[0;32m    699\u001B[0m     \u001B[1;31m# Find newlines and replace them with p.break_()\u001B[0m\u001B[1;33m\u001B[0m\u001B[1;33m\u001B[0m\u001B[1;33m\u001B[0m\u001B[0m\n\u001B[1;32m--> 700\u001B[1;33m     \u001B[0moutput\u001B[0m \u001B[1;33m=\u001B[0m \u001B[0mrepr\u001B[0m\u001B[1;33m(\u001B[0m\u001B[0mobj\u001B[0m\u001B[1;33m)\u001B[0m\u001B[1;33m\u001B[0m\u001B[1;33m\u001B[0m\u001B[0m\n\u001B[0m\u001B[0;32m    701\u001B[0m     \u001B[0mlines\u001B[0m \u001B[1;33m=\u001B[0m \u001B[0moutput\u001B[0m\u001B[1;33m.\u001B[0m\u001B[0msplitlines\u001B[0m\u001B[1;33m(\u001B[0m\u001B[1;33m)\u001B[0m\u001B[1;33m\u001B[0m\u001B[1;33m\u001B[0m\u001B[0m\n\u001B[0;32m    702\u001B[0m     \u001B[1;32mwith\u001B[0m \u001B[0mp\u001B[0m\u001B[1;33m.\u001B[0m\u001B[0mgroup\u001B[0m\u001B[1;33m(\u001B[0m\u001B[1;33m)\u001B[0m\u001B[1;33m:\u001B[0m\u001B[1;33m\u001B[0m\u001B[1;33m\u001B[0m\u001B[0m\n",
      "\u001B[1;32mD:\\Anaconda\\envs\\Pytorch\\lib\\site-packages\\torch\\_tensor.py\u001B[0m in \u001B[0;36m__repr__\u001B[1;34m(self)\u001B[0m\n\u001B[0;32m    303\u001B[0m             \u001B[1;32mreturn\u001B[0m \u001B[0mhandle_torch_function\u001B[0m\u001B[1;33m(\u001B[0m\u001B[0mTensor\u001B[0m\u001B[1;33m.\u001B[0m\u001B[0m__repr__\u001B[0m\u001B[1;33m,\u001B[0m \u001B[1;33m(\u001B[0m\u001B[0mself\u001B[0m\u001B[1;33m,\u001B[0m\u001B[1;33m)\u001B[0m\u001B[1;33m,\u001B[0m \u001B[0mself\u001B[0m\u001B[1;33m)\u001B[0m\u001B[1;33m\u001B[0m\u001B[1;33m\u001B[0m\u001B[0m\n\u001B[0;32m    304\u001B[0m         \u001B[1;31m# All strings are unicode in Python 3.\u001B[0m\u001B[1;33m\u001B[0m\u001B[1;33m\u001B[0m\u001B[1;33m\u001B[0m\u001B[0m\n\u001B[1;32m--> 305\u001B[1;33m         \u001B[1;32mreturn\u001B[0m \u001B[0mtorch\u001B[0m\u001B[1;33m.\u001B[0m\u001B[0m_tensor_str\u001B[0m\u001B[1;33m.\u001B[0m\u001B[0m_str\u001B[0m\u001B[1;33m(\u001B[0m\u001B[0mself\u001B[0m\u001B[1;33m)\u001B[0m\u001B[1;33m\u001B[0m\u001B[1;33m\u001B[0m\u001B[0m\n\u001B[0m\u001B[0;32m    306\u001B[0m \u001B[1;33m\u001B[0m\u001B[0m\n\u001B[0;32m    307\u001B[0m     \u001B[1;32mdef\u001B[0m \u001B[0mbackward\u001B[0m\u001B[1;33m(\u001B[0m\u001B[0mself\u001B[0m\u001B[1;33m,\u001B[0m \u001B[0mgradient\u001B[0m\u001B[1;33m=\u001B[0m\u001B[1;32mNone\u001B[0m\u001B[1;33m,\u001B[0m \u001B[0mretain_graph\u001B[0m\u001B[1;33m=\u001B[0m\u001B[1;32mNone\u001B[0m\u001B[1;33m,\u001B[0m \u001B[0mcreate_graph\u001B[0m\u001B[1;33m=\u001B[0m\u001B[1;32mFalse\u001B[0m\u001B[1;33m,\u001B[0m \u001B[0minputs\u001B[0m\u001B[1;33m=\u001B[0m\u001B[1;32mNone\u001B[0m\u001B[1;33m)\u001B[0m\u001B[1;33m:\u001B[0m\u001B[1;33m\u001B[0m\u001B[1;33m\u001B[0m\u001B[0m\n",
      "\u001B[1;32mD:\\Anaconda\\envs\\Pytorch\\lib\\site-packages\\torch\\_tensor_str.py\u001B[0m in \u001B[0;36m_str\u001B[1;34m(self)\u001B[0m\n\u001B[0;32m    432\u001B[0m \u001B[1;32mdef\u001B[0m \u001B[0m_str\u001B[0m\u001B[1;33m(\u001B[0m\u001B[0mself\u001B[0m\u001B[1;33m)\u001B[0m\u001B[1;33m:\u001B[0m\u001B[1;33m\u001B[0m\u001B[1;33m\u001B[0m\u001B[0m\n\u001B[0;32m    433\u001B[0m     \u001B[1;32mwith\u001B[0m \u001B[0mtorch\u001B[0m\u001B[1;33m.\u001B[0m\u001B[0mno_grad\u001B[0m\u001B[1;33m(\u001B[0m\u001B[1;33m)\u001B[0m\u001B[1;33m:\u001B[0m\u001B[1;33m\u001B[0m\u001B[1;33m\u001B[0m\u001B[0m\n\u001B[1;32m--> 434\u001B[1;33m         \u001B[1;32mreturn\u001B[0m \u001B[0m_str_intern\u001B[0m\u001B[1;33m(\u001B[0m\u001B[0mself\u001B[0m\u001B[1;33m)\u001B[0m\u001B[1;33m\u001B[0m\u001B[1;33m\u001B[0m\u001B[0m\n\u001B[0m",
      "\u001B[1;32mD:\\Anaconda\\envs\\Pytorch\\lib\\site-packages\\torch\\_tensor_str.py\u001B[0m in \u001B[0;36m_str_intern\u001B[1;34m(inp)\u001B[0m\n\u001B[0;32m    407\u001B[0m                     \u001B[0mtensor_str\u001B[0m \u001B[1;33m=\u001B[0m \u001B[0m_tensor_str\u001B[0m\u001B[1;33m(\u001B[0m\u001B[0mself\u001B[0m\u001B[1;33m.\u001B[0m\u001B[0mto_dense\u001B[0m\u001B[1;33m(\u001B[0m\u001B[1;33m)\u001B[0m\u001B[1;33m,\u001B[0m \u001B[0mindent\u001B[0m\u001B[1;33m)\u001B[0m\u001B[1;33m\u001B[0m\u001B[1;33m\u001B[0m\u001B[0m\n\u001B[0;32m    408\u001B[0m                 \u001B[1;32melse\u001B[0m\u001B[1;33m:\u001B[0m\u001B[1;33m\u001B[0m\u001B[1;33m\u001B[0m\u001B[0m\n\u001B[1;32m--> 409\u001B[1;33m                     \u001B[0mtensor_str\u001B[0m \u001B[1;33m=\u001B[0m \u001B[0m_tensor_str\u001B[0m\u001B[1;33m(\u001B[0m\u001B[0mself\u001B[0m\u001B[1;33m,\u001B[0m \u001B[0mindent\u001B[0m\u001B[1;33m)\u001B[0m\u001B[1;33m\u001B[0m\u001B[1;33m\u001B[0m\u001B[0m\n\u001B[0m\u001B[0;32m    410\u001B[0m \u001B[1;33m\u001B[0m\u001B[0m\n\u001B[0;32m    411\u001B[0m     \u001B[1;32mif\u001B[0m \u001B[0mself\u001B[0m\u001B[1;33m.\u001B[0m\u001B[0mlayout\u001B[0m \u001B[1;33m!=\u001B[0m \u001B[0mtorch\u001B[0m\u001B[1;33m.\u001B[0m\u001B[0mstrided\u001B[0m\u001B[1;33m:\u001B[0m\u001B[1;33m\u001B[0m\u001B[1;33m\u001B[0m\u001B[0m\n",
      "\u001B[1;32mD:\\Anaconda\\envs\\Pytorch\\lib\\site-packages\\torch\\_tensor_str.py\u001B[0m in \u001B[0;36m_tensor_str\u001B[1;34m(self, indent)\u001B[0m\n\u001B[0;32m    262\u001B[0m         \u001B[1;32mreturn\u001B[0m \u001B[0m_tensor_str_with_formatter\u001B[0m\u001B[1;33m(\u001B[0m\u001B[0mself\u001B[0m\u001B[1;33m,\u001B[0m \u001B[0mindent\u001B[0m\u001B[1;33m,\u001B[0m \u001B[0msummarize\u001B[0m\u001B[1;33m,\u001B[0m \u001B[0mreal_formatter\u001B[0m\u001B[1;33m,\u001B[0m \u001B[0mimag_formatter\u001B[0m\u001B[1;33m)\u001B[0m\u001B[1;33m\u001B[0m\u001B[1;33m\u001B[0m\u001B[0m\n\u001B[0;32m    263\u001B[0m     \u001B[1;32melse\u001B[0m\u001B[1;33m:\u001B[0m\u001B[1;33m\u001B[0m\u001B[1;33m\u001B[0m\u001B[0m\n\u001B[1;32m--> 264\u001B[1;33m         \u001B[0mformatter\u001B[0m \u001B[1;33m=\u001B[0m \u001B[0m_Formatter\u001B[0m\u001B[1;33m(\u001B[0m\u001B[0mget_summarized_data\u001B[0m\u001B[1;33m(\u001B[0m\u001B[0mself\u001B[0m\u001B[1;33m)\u001B[0m \u001B[1;32mif\u001B[0m \u001B[0msummarize\u001B[0m \u001B[1;32melse\u001B[0m \u001B[0mself\u001B[0m\u001B[1;33m)\u001B[0m\u001B[1;33m\u001B[0m\u001B[1;33m\u001B[0m\u001B[0m\n\u001B[0m\u001B[0;32m    265\u001B[0m         \u001B[1;32mreturn\u001B[0m \u001B[0m_tensor_str_with_formatter\u001B[0m\u001B[1;33m(\u001B[0m\u001B[0mself\u001B[0m\u001B[1;33m,\u001B[0m \u001B[0mindent\u001B[0m\u001B[1;33m,\u001B[0m \u001B[0msummarize\u001B[0m\u001B[1;33m,\u001B[0m \u001B[0mformatter\u001B[0m\u001B[1;33m)\u001B[0m\u001B[1;33m\u001B[0m\u001B[1;33m\u001B[0m\u001B[0m\n\u001B[0;32m    266\u001B[0m \u001B[1;33m\u001B[0m\u001B[0m\n",
      "\u001B[1;32mD:\\Anaconda\\envs\\Pytorch\\lib\\site-packages\\torch\\_tensor_str.py\u001B[0m in \u001B[0;36mget_summarized_data\u001B[1;34m(self)\u001B[0m\n\u001B[0;32m    294\u001B[0m         end = ([self[i]\n\u001B[0;32m    295\u001B[0m                for i in range(len(self) - PRINT_OPTS.edgeitems, len(self))])\n\u001B[1;32m--> 296\u001B[1;33m         \u001B[1;32mreturn\u001B[0m \u001B[0mtorch\u001B[0m\u001B[1;33m.\u001B[0m\u001B[0mstack\u001B[0m\u001B[1;33m(\u001B[0m\u001B[1;33m[\u001B[0m\u001B[0mget_summarized_data\u001B[0m\u001B[1;33m(\u001B[0m\u001B[0mx\u001B[0m\u001B[1;33m)\u001B[0m \u001B[1;32mfor\u001B[0m \u001B[0mx\u001B[0m \u001B[1;32min\u001B[0m \u001B[1;33m(\u001B[0m\u001B[0mstart\u001B[0m \u001B[1;33m+\u001B[0m \u001B[0mend\u001B[0m\u001B[1;33m)\u001B[0m\u001B[1;33m]\u001B[0m\u001B[1;33m)\u001B[0m\u001B[1;33m\u001B[0m\u001B[1;33m\u001B[0m\u001B[0m\n\u001B[0m\u001B[0;32m    297\u001B[0m     \u001B[1;32melse\u001B[0m\u001B[1;33m:\u001B[0m\u001B[1;33m\u001B[0m\u001B[1;33m\u001B[0m\u001B[0m\n\u001B[0;32m    298\u001B[0m         \u001B[1;32mreturn\u001B[0m \u001B[0mtorch\u001B[0m\u001B[1;33m.\u001B[0m\u001B[0mstack\u001B[0m\u001B[1;33m(\u001B[0m\u001B[1;33m[\u001B[0m\u001B[0mget_summarized_data\u001B[0m\u001B[1;33m(\u001B[0m\u001B[0mx\u001B[0m\u001B[1;33m)\u001B[0m \u001B[1;32mfor\u001B[0m \u001B[0mx\u001B[0m \u001B[1;32min\u001B[0m \u001B[0mself\u001B[0m\u001B[1;33m]\u001B[0m\u001B[1;33m)\u001B[0m\u001B[1;33m\u001B[0m\u001B[1;33m\u001B[0m\u001B[0m\n",
      "\u001B[1;32mD:\\Anaconda\\envs\\Pytorch\\lib\\site-packages\\torch\\_tensor_str.py\u001B[0m in \u001B[0;36m<listcomp>\u001B[1;34m(.0)\u001B[0m\n\u001B[0;32m    294\u001B[0m         end = ([self[i]\n\u001B[0;32m    295\u001B[0m                for i in range(len(self) - PRINT_OPTS.edgeitems, len(self))])\n\u001B[1;32m--> 296\u001B[1;33m         \u001B[1;32mreturn\u001B[0m \u001B[0mtorch\u001B[0m\u001B[1;33m.\u001B[0m\u001B[0mstack\u001B[0m\u001B[1;33m(\u001B[0m\u001B[1;33m[\u001B[0m\u001B[0mget_summarized_data\u001B[0m\u001B[1;33m(\u001B[0m\u001B[0mx\u001B[0m\u001B[1;33m)\u001B[0m \u001B[1;32mfor\u001B[0m \u001B[0mx\u001B[0m \u001B[1;32min\u001B[0m \u001B[1;33m(\u001B[0m\u001B[0mstart\u001B[0m \u001B[1;33m+\u001B[0m \u001B[0mend\u001B[0m\u001B[1;33m)\u001B[0m\u001B[1;33m]\u001B[0m\u001B[1;33m)\u001B[0m\u001B[1;33m\u001B[0m\u001B[1;33m\u001B[0m\u001B[0m\n\u001B[0m\u001B[0;32m    297\u001B[0m     \u001B[1;32melse\u001B[0m\u001B[1;33m:\u001B[0m\u001B[1;33m\u001B[0m\u001B[1;33m\u001B[0m\u001B[0m\n\u001B[0;32m    298\u001B[0m         \u001B[1;32mreturn\u001B[0m \u001B[0mtorch\u001B[0m\u001B[1;33m.\u001B[0m\u001B[0mstack\u001B[0m\u001B[1;33m(\u001B[0m\u001B[1;33m[\u001B[0m\u001B[0mget_summarized_data\u001B[0m\u001B[1;33m(\u001B[0m\u001B[0mx\u001B[0m\u001B[1;33m)\u001B[0m \u001B[1;32mfor\u001B[0m \u001B[0mx\u001B[0m \u001B[1;32min\u001B[0m \u001B[0mself\u001B[0m\u001B[1;33m]\u001B[0m\u001B[1;33m)\u001B[0m\u001B[1;33m\u001B[0m\u001B[1;33m\u001B[0m\u001B[0m\n",
      "\u001B[1;32mD:\\Anaconda\\envs\\Pytorch\\lib\\site-packages\\torch\\_tensor_str.py\u001B[0m in \u001B[0;36mget_summarized_data\u001B[1;34m(self)\u001B[0m\n\u001B[0;32m    287\u001B[0m     \u001B[1;32mif\u001B[0m \u001B[0mdim\u001B[0m \u001B[1;33m==\u001B[0m \u001B[1;36m1\u001B[0m\u001B[1;33m:\u001B[0m\u001B[1;33m\u001B[0m\u001B[1;33m\u001B[0m\u001B[0m\n\u001B[0;32m    288\u001B[0m         \u001B[1;32mif\u001B[0m \u001B[0mself\u001B[0m\u001B[1;33m.\u001B[0m\u001B[0msize\u001B[0m\u001B[1;33m(\u001B[0m\u001B[1;36m0\u001B[0m\u001B[1;33m)\u001B[0m \u001B[1;33m>\u001B[0m \u001B[1;36m2\u001B[0m \u001B[1;33m*\u001B[0m \u001B[0mPRINT_OPTS\u001B[0m\u001B[1;33m.\u001B[0m\u001B[0medgeitems\u001B[0m\u001B[1;33m:\u001B[0m\u001B[1;33m\u001B[0m\u001B[1;33m\u001B[0m\u001B[0m\n\u001B[1;32m--> 289\u001B[1;33m             \u001B[1;32mreturn\u001B[0m \u001B[0mtorch\u001B[0m\u001B[1;33m.\u001B[0m\u001B[0mcat\u001B[0m\u001B[1;33m(\u001B[0m\u001B[1;33m(\u001B[0m\u001B[0mself\u001B[0m\u001B[1;33m[\u001B[0m\u001B[1;33m:\u001B[0m\u001B[0mPRINT_OPTS\u001B[0m\u001B[1;33m.\u001B[0m\u001B[0medgeitems\u001B[0m\u001B[1;33m]\u001B[0m\u001B[1;33m,\u001B[0m \u001B[0mself\u001B[0m\u001B[1;33m[\u001B[0m\u001B[1;33m-\u001B[0m\u001B[0mPRINT_OPTS\u001B[0m\u001B[1;33m.\u001B[0m\u001B[0medgeitems\u001B[0m\u001B[1;33m:\u001B[0m\u001B[1;33m]\u001B[0m\u001B[1;33m)\u001B[0m\u001B[1;33m)\u001B[0m\u001B[1;33m\u001B[0m\u001B[1;33m\u001B[0m\u001B[0m\n\u001B[0m\u001B[0;32m    290\u001B[0m         \u001B[1;32melse\u001B[0m\u001B[1;33m:\u001B[0m\u001B[1;33m\u001B[0m\u001B[1;33m\u001B[0m\u001B[0m\n\u001B[0;32m    291\u001B[0m             \u001B[1;32mreturn\u001B[0m \u001B[0mself\u001B[0m\u001B[1;33m\u001B[0m\u001B[1;33m\u001B[0m\u001B[0m\n",
      "\u001B[1;31mKeyboardInterrupt\u001B[0m: "
     ]
    }
   ]
  },
  {
   "cell_type": "code",
   "metadata": {
    "id": "ue2SLd9nYKCd",
    "colab": {
     "base_uri": "https://localhost:8080/"
    },
    "outputId": "14a91107-6ec6-4a96-b8d8-502534104c76"
   },
   "source": [
    "x = x.cpu()\n",
    "!nvidia-smi\n",
    "\n",
    "torch.cuda.empty_cache()\n",
    "!nvidia-smi"
   ],
   "execution_count": null,
   "outputs": []
  },
  {
   "cell_type": "code",
   "metadata": {
    "id": "qVVp6BnbD7fy",
    "colab": {
     "base_uri": "https://localhost:8080/"
    },
    "outputId": "e097c457-a4d5-40a7-b86b-1f17ffe0ad6d"
   },
   "source": [
    "device = torch.device(\"cuda:0\") if torch.cuda.is_available() else torch.device(\"cpu\")\n",
    "\n",
    "# x = x.to(device)\n",
    "# x\n",
    "device"
   ],
   "execution_count": 155,
   "outputs": [
    {
     "data": {
      "text/plain": "device(type='cuda', index=0)"
     },
     "execution_count": 155,
     "metadata": {},
     "output_type": "execute_result"
    }
   ]
  },
  {
   "cell_type": "markdown",
   "metadata": {
    "id": "dI73B59PYKCg"
   },
   "source": [
    "Умножим два тензора в GPU и вернём результат обратно на CPU:"
   ]
  },
  {
   "cell_type": "code",
   "execution_count": null,
   "outputs": [],
   "source": [
    "torch.cuda.device_count()"
   ],
   "metadata": {
    "collapsed": false,
    "pycharm": {
     "name": "#%%\n"
    }
   }
  },
  {
   "cell_type": "code",
   "metadata": {
    "id": "KS4QxJJoYKCg"
   },
   "source": [
    "a = torch.FloatTensor(10000, 10000).uniform_()\n",
    "b = torch.FloatTensor(10000, 10000).uniform_()\n",
    "c = a.cuda().mul(b.cuda()).cpu()"
   ],
   "execution_count": null,
   "outputs": []
  },
  {
   "cell_type": "code",
   "metadata": {
    "id": "1ImlgEbwYKCg",
    "colab": {
     "base_uri": "https://localhost:8080/"
    },
    "outputId": "08840d69-9844-4baf-f17d-26ae59cd171e"
   },
   "source": [
    "c"
   ],
   "execution_count": null,
   "outputs": []
  },
  {
   "cell_type": "code",
   "metadata": {
    "id": "4DAN9MhDYKCh",
    "colab": {
     "base_uri": "https://localhost:8080/"
    },
    "outputId": "435e0564-edf4-4486-d26a-1bb9e305f305"
   },
   "source": [
    "a"
   ],
   "execution_count": null,
   "outputs": []
  },
  {
   "cell_type": "markdown",
   "metadata": {
    "id": "xWc-PiA9YKCi"
   },
   "source": [
    "Тензоры из разных областей памяти не совместимы:"
   ]
  },
  {
   "cell_type": "code",
   "metadata": {
    "id": "1lwV1sgSYKCi"
   },
   "source": [
    "a = torch.FloatTensor(10000, 10000).uniform_().cpu()\n",
    "b = torch.FloatTensor(10000, 10000).uniform_().cuda()"
   ],
   "execution_count": null,
   "outputs": []
  },
  {
   "cell_type": "code",
   "metadata": {
    "id": "G6tYdYtTYKCj",
    "colab": {
     "base_uri": "https://localhost:8080/",
     "height": 162
    },
    "outputId": "f92ecd9b-052a-401f-b0db-530e7bd20579"
   },
   "source": [
    "a + b"
   ],
   "execution_count": null,
   "outputs": []
  },
  {
   "cell_type": "markdown",
   "metadata": {
    "id": "QEtwaIxDYKCk"
   },
   "source": [
    "### Пример работы на GPU"
   ]
  },
  {
   "cell_type": "code",
   "metadata": {
    "id": "PRmnPD5EcpcF"
   },
   "source": [
    "device = 'cuda' if torch.cuda.is_available() else 'cpu'"
   ],
   "execution_count": null,
   "outputs": []
  },
  {
   "cell_type": "code",
   "metadata": {
    "id": "bJgVfAbUYKCk",
    "scrolled": true,
    "colab": {
     "base_uri": "https://localhost:8080/"
    },
    "outputId": "c1fa163e-3ced-4a6b-a5e2-263af99a1eb0"
   },
   "source": [
    "x = torch.FloatTensor(5, 5, 5).uniform_()\n",
    "\n",
    "# проверить наличие CUDA (NVIDIA GPU)\n",
    "if torch.cuda.is_available():\n",
    "    # получить имя устройства CUDA\n",
    "    device = torch.device('cuda')          # Объект CUDA-устройства\n",
    "    y = torch.ones_like(x, device=device)  # создаем тензор на GPU\n",
    "    x = x.to(device)                       # или просто `.to(\"cuda\")`\n",
    "    z = x + y\n",
    "    print(z)\n",
    "    # вы можете установить тип во время операции `.to`\n",
    "    print(z.to(\"cpu\", torch.double))"
   ],
   "execution_count": null,
   "outputs": []
  },
  {
   "cell_type": "markdown",
   "metadata": {
    "id": "iFg82MJIYKCl"
   },
   "source": [
    "## AutoGrad\n",
    "\n",
    "За что мы любим PyTorch --- за то, что в нём можно автоматически дифференцировать функции! Об этом можно было бы только мечтать в Numpy. Дифференцирование функций происходит по формуле производной композиции."
   ]
  },
  {
   "cell_type": "markdown",
   "metadata": {
    "id": "63BaBsy4iuwl"
   },
   "source": [
    "**Правило производной композиции (a.k.a. backpropagation)**\n",
    "\n",
    "Пусть есть функция $f(w(\\theta))$. Вычислим её производную:\n",
    "$${\\frac  {\\partial{f}}{\\partial{\\theta}}}\n",
    "={\\frac  {\\partial{f}}{\\partial{w}}}\\cdot {\\frac  {\\partial{w}}{\\partial{\\theta}}}$$\n",
    "\n",
    "\n",
    "*Как рассказывалось на лекции, в многомерном случае можно записать аналог этой формулы:*\n",
    "$$\n",
    "D_\\theta(f\\circ w) = D_{w(\\theta)}(f)\\circ D_\\theta(w)\n",
    "$$\n",
    "\n",
    "Простой пример обратного распространения градиента:\n",
    "\n",
    "$$y = \\sin \\left(x_2^2(x_1 + x_2)\\right)$$\n",
    "\n",
    "<img src=\"https://ars.els-cdn.com/content/image/1-s2.0-S0010465515004099-gr1.jpg\" width=700></img>\n"
   ]
  },
  {
   "cell_type": "markdown",
   "metadata": {
    "id": "udpOWYK-YKCm"
   },
   "source": [
    "Autograd позволяет производить автоматическое дифференцирование для всех операций на тензорах. Граф вычислений, в отличие от Tensorflow, строится динамически. Давайте посмотрим, как это работает."
   ]
  },
  {
   "cell_type": "markdown",
   "metadata": {
    "id": "AEDz971fYKCn"
   },
   "source": [
    "#### Задание. Реализуйте обучение в логистической регрессии"
   ]
  },
  {
   "cell_type": "code",
   "metadata": {
    "id": "bpie5O9zh0Ar"
   },
   "source": [
    "# Разберем пример: применим линейную регрессию цен на жилье в Бостоне."
   ],
   "execution_count": null,
   "outputs": []
  },
  {
   "cell_type": "code",
   "metadata": {
    "id": "Z3IzUjAxh0Oy",
    "colab": {
     "base_uri": "https://localhost:8080/",
     "height": 282
    },
    "outputId": "5038bc53-6907-4e3b-bb62-7e4bae068683"
   },
   "source": [
    "import matplotlib.pyplot as plt\n",
    "import torch\n",
    "%matplotlib inline\n",
    "\n",
    "from sklearn.datasets import load_boston\n",
    "boston = load_boston()\n",
    "plt.scatter(boston.data[:, -1], boston.target)"
   ],
   "execution_count": null,
   "outputs": []
  },
  {
   "cell_type": "code",
   "metadata": {
    "id": "PqGRzUWDh0Sz"
   },
   "source": [
    "w = torch.zeros(1, requires_grad=True)\n",
    "b = torch.zeros(1, requires_grad=True)\n",
    "\n",
    "x = torch.tensor(boston.data[:, -1] / 10, dtype=torch.float32)\n",
    "y = torch.tensor(boston.target, dtype=torch.float32)"
   ],
   "execution_count": null,
   "outputs": []
  },
  {
   "cell_type": "code",
   "metadata": {
    "id": "ZfSUm56t35Id"
   },
   "source": [
    "y_pred = w * x + b\n",
    "loss = torch.mean((y_pred - y)**2)\n",
    "\n",
    "# propagete gradients\n",
    "loss.backward()"
   ],
   "execution_count": null,
   "outputs": []
  },
  {
   "cell_type": "code",
   "metadata": {
    "colab": {
     "base_uri": "https://localhost:8080/"
    },
    "id": "t715-JTs3_fl",
    "outputId": "a94bbf90-80e3-40ba-dd13-5dceff5fadd3"
   },
   "source": [
    "print(\"dL/dw = \\n\", w.grad)\n",
    "print(\"dL/db = \\n\", b.grad)"
   ],
   "execution_count": null,
   "outputs": []
  },
  {
   "cell_type": "code",
   "metadata": {
    "colab": {
     "base_uri": "https://localhost:8080/",
     "height": 282
    },
    "id": "oFUyNOs335d_",
    "outputId": "70c653d7-3c74-49f3-d0f9-6b418385456d"
   },
   "source": [
    "from IPython.display import clear_output\n",
    "\n",
    "for i in range(100):\n",
    "\n",
    "    y_pred = w * x + b\n",
    "\n",
    "    # Вычисляем функцию ошибок\n",
    "    loss = torch.mean((y_pred - y)**2)\n",
    "\n",
    "    # Вычисляем градиенты\n",
    "    loss.backward()\n",
    "\n",
    "\n",
    "    # Делаем шаг градиентного спуска по матрице весов\n",
    "    w.data -= 0.05*w.grad.data\n",
    "    b.data -= 0.05*b.grad.data\n",
    "\n",
    "    # обнуляем градиенты\n",
    "    w.grad.data.zero_()\n",
    "    b.grad.data.zero_()\n",
    "\n",
    "\n",
    "\n",
    "    # the rest of code is just bells and whistles\n",
    "    if (i+1) % 5 == 0:\n",
    "        clear_output(True)\n",
    "        plt.scatter(x.data.numpy(), y.data.numpy())\n",
    "        plt.scatter(x.data.numpy(), y_pred.data.numpy(),\n",
    "                    color='orange', linewidth=5)\n",
    "        plt.show()\n",
    "\n",
    "        print(\"loss = \", loss.data.numpy())\n",
    "        if loss.data.numpy() < 0.5:\n",
    "            print(\"Done!\")\n",
    "            break"
   ],
   "execution_count": null,
   "outputs": []
  },
  {
   "cell_type": "code",
   "metadata": {
    "id": "1tEfEQEs35jw"
   },
   "source": [
    ""
   ],
   "execution_count": null,
   "outputs": []
  },
  {
   "cell_type": "code",
   "metadata": {
    "id": "4BnPqcXM35um"
   },
   "source": [
    ""
   ],
   "execution_count": null,
   "outputs": []
  },
  {
   "cell_type": "markdown",
   "metadata": {
    "id": "N8QDKc1D4HHo"
   },
   "source": [
    "Посмотрим градиенты на примере двухслойной сети"
   ]
  },
  {
   "cell_type": "code",
   "metadata": {
    "id": "rYWqXsAjYKCn"
   },
   "source": [
    "dtype = torch.float\n",
    "device = torch.device(\"cuda:0\")\n",
    "# device = torch.device(\"cuda:0\") # Раскомментируйте это, чтобы запустить на GPU\n",
    "\n",
    "# N - размер батча; D_in - входной размер;\n",
    "# H - размер скрытого слоя; D_out - размер вывода.\n",
    "N, D_in, H, D_out = 64, 3, 3, 10\n",
    "N, D_in, H, D_out = 64, 3, 3, 10\n",
    "\n",
    "# Создание случайных тензоров для хранения входных и выходных данных.\n",
    "# Настройка requires_grad = False указывает, что нам не нужно вычислять градиенты\n",
    "# по отношению к этим тензорам во время обратного прохода.\n",
    "x = torch.randn(N, D_in, device=device, dtype=dtype)\n",
    "y = torch.randn(N, D_out, device=device, dtype=dtype)\n",
    "\n",
    "# Создаем тензоры случайных весов.\n",
    "# Настройка requires_grad = True указывает, что мы хотим вычислять градиенты с\n",
    "# уважение к этим тензорам во время обратного прохода.\n",
    "\n",
    "# Create random Tensors for weights.\n",
    "# Установка requires_grad = True указывает, что мы хотим вычислить градиенты \n",
    "# относительно этих тензоров во время обратного прохода.\n",
    "w1 = torch.randn(D_in, H, device=device, dtype=dtype, requires_grad=True)\n",
    "w2 = torch.randn(H, D_out, device=device, dtype=dtype, requires_grad=True)"
   ],
   "execution_count": null,
   "outputs": []
  },
  {
   "cell_type": "code",
   "metadata": {
    "id": "cpDU8Q-LifdW"
   },
   "source": [
    "y_pred = (x @ w1).clamp(min=0).matmul(w2)\n",
    "loss = (y_pred - y).pow(2).sum()\n",
    "\n",
    "# вычисляем градиенты\n",
    "loss.backward()"
   ],
   "execution_count": null,
   "outputs": []
  },
  {
   "cell_type": "code",
   "metadata": {
    "id": "T3vfuF-wXS8O",
    "colab": {
     "base_uri": "https://localhost:8080/"
    },
    "outputId": "ade0853f-d9b0-4c67-e531-c9a6df259452"
   },
   "source": [
    "print((y_pred - y).pow(2).sum())"
   ],
   "execution_count": null,
   "outputs": []
  },
  {
   "cell_type": "code",
   "metadata": {
    "id": "qLkn5C7JYKCp",
    "colab": {
     "base_uri": "https://localhost:8080/"
    },
    "outputId": "baa352b9-850c-4a2b-8c4c-cc2c33e0c57d"
   },
   "source": [
    "w1.grad, w2.grad"
   ],
   "execution_count": null,
   "outputs": []
  },
  {
   "cell_type": "code",
   "metadata": {
    "id": "jr19Gh3ZU2Ws",
    "colab": {
     "base_uri": "https://localhost:8080/"
    },
    "outputId": "e26a89e1-3f37-4705-a7da-3b21231cd693"
   },
   "source": [
    "loss.grad # нет доступа к нелистовым градиентам в дереве AD"
   ],
   "execution_count": null,
   "outputs": []
  },
  {
   "cell_type": "code",
   "metadata": {
    "id": "9U4CN8EQSrrr"
   },
   "source": [
    "# заставляем переменную запоминать градиенты фнукции потерь\n",
    "y_pred = (x @ w1).clamp(min=0).matmul(w2)\n",
    "y_pred.retain_grad()\n",
    "\n",
    "loss = (y_pred - y).pow(2).sum()\n",
    "loss.retain_grad()\n",
    "\n",
    "loss.backward()"
   ],
   "execution_count": null,
   "outputs": []
  },
  {
   "cell_type": "code",
   "metadata": {
    "id": "IKj2jd0LSwI_",
    "colab": {
     "base_uri": "https://localhost:8080/"
    },
    "outputId": "8c8a60fa-bd20-4025-a502-bd38c4392fdc"
   },
   "source": [
    "loss.grad"
   ],
   "execution_count": null,
   "outputs": []
  },
  {
   "cell_type": "code",
   "metadata": {
    "id": "CYkrFbD5YKCq"
   },
   "source": [
    "x.grad # не требует градиента"
   ],
   "execution_count": null,
   "outputs": []
  },
  {
   "cell_type": "code",
   "metadata": {
    "id": "ouMNnbtXYKCr"
   },
   "source": [
    "y.grad # не требует градиента"
   ],
   "execution_count": null,
   "outputs": []
  },
  {
   "cell_type": "markdown",
   "metadata": {
    "id": "DIsqxWIvYKCs"
   },
   "source": [
    "**Замечание:** Градиенты помещаются в поле `.grad` тензоров, на которых они вычисляются."
   ]
  },
  {
   "cell_type": "code",
   "metadata": {
    "id": "5wU_TFedYKCt",
    "colab": {
     "base_uri": "https://localhost:8080/"
    },
    "outputId": "976ca4fb-6247-4452-9322-da022fe43fcc"
   },
   "source": [
    "w1"
   ],
   "execution_count": null,
   "outputs": []
  },
  {
   "cell_type": "code",
   "metadata": {
    "id": "UhhUL-mwTKaZ"
   },
   "source": [
    "with torch.no_grad():\n",
    "  \n",
    "    pass"
   ],
   "execution_count": null,
   "outputs": []
  },
  {
   "cell_type": "markdown",
   "metadata": {
    "id": "J094WEHQYKCv"
   },
   "source": [
    "## Дополнительные материалы"
   ]
  },
  {
   "cell_type": "markdown",
   "metadata": {
    "id": "ftVUTfvUYKCv"
   },
   "source": [
    "*1). Official PyTorch tutorials: https://pytorch.org/tutorials/beginner/blitz/tensor_tutorial.html#sphx-glr-beginner-blitz-tensor-tutorial-py*"
   ]
  },
  {
   "cell_type": "markdown",
   "metadata": {
    "id": "ovymy5F6YKCw"
   },
   "source": [
    "*2). arXiv article about the deep learning frameworks comparison: https://arxiv.org/pdf/1511.06435.pdf*"
   ]
  },
  {
   "cell_type": "markdown",
   "metadata": {
    "id": "VXEEowQAYKCx"
   },
   "source": [
    "*3). Useful repo with different tutorials: https://github.com/yunjey/pytorch-tutorial*"
   ]
  },
  {
   "cell_type": "markdown",
   "metadata": {
    "id": "9cROZcrYYKC0"
   },
   "source": [
    "*4). Facebook AI Research (main contributor of PyTorch) website: https://facebook.ai/developers/tools*"
   ]
  },
  {
   "cell_type": "code",
   "metadata": {
    "id": "tNV-701mhorZ"
   },
   "source": [
    ""
   ],
   "execution_count": null,
   "outputs": []
  },
  {
   "cell_type": "code",
   "metadata": {
    "id": "E6q3LRiniE13"
   },
   "source": [
    ""
   ],
   "execution_count": null,
   "outputs": []
  },
  {
   "cell_type": "code",
   "metadata": {
    "id": "cZSzhGn1l2xi"
   },
   "source": [
    ""
   ],
   "execution_count": null,
   "outputs": []
  }
 ]
}